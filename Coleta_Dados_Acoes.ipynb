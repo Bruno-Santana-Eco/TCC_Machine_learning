{
 "cells": [
  {
   "cell_type": "code",
   "execution_count": 2,
   "metadata": {},
   "outputs": [
    {
     "name": "stdout",
     "output_type": "stream",
     "text": [
      "Collecting yfinance\n",
      "  Downloading yfinance-0.2.43-py2.py3-none-any.whl (84 kB)\n",
      "     ---------------------------------------- 84.6/84.6 kB 1.2 MB/s eta 0:00:00\n",
      "Collecting html5lib>=1.1\n",
      "  Downloading html5lib-1.1-py2.py3-none-any.whl (112 kB)\n",
      "     -------------------------------------- 112.2/112.2 kB 1.6 MB/s eta 0:00:00\n",
      "Requirement already satisfied: platformdirs>=2.0.0 in c:\\programdata\\anaconda3\\lib\\site-packages (from yfinance) (2.5.2)\n",
      "Collecting requests>=2.31\n",
      "  Downloading requests-2.32.3-py3-none-any.whl (64 kB)\n",
      "     ---------------------------------------- 64.9/64.9 kB 1.7 MB/s eta 0:00:00\n",
      "Requirement already satisfied: pytz>=2022.5 in c:\\programdata\\anaconda3\\lib\\site-packages (from yfinance) (2022.7)\n",
      "Collecting frozendict>=2.3.4\n",
      "  Downloading frozendict-2.4.4-cp38-cp38-win_amd64.whl (37 kB)\n",
      "Requirement already satisfied: beautifulsoup4>=4.11.1 in c:\\programdata\\anaconda3\\lib\\site-packages (from yfinance) (4.12.2)\n",
      "Collecting peewee>=3.16.2\n",
      "  Downloading peewee-3.17.6.tar.gz (3.0 MB)\n",
      "     ---------------------------------------- 3.0/3.0 MB 4.8 MB/s eta 0:00:00\n",
      "  Installing build dependencies: started\n",
      "  Installing build dependencies: finished with status 'done'\n",
      "  Getting requirements to build wheel: started\n",
      "  Getting requirements to build wheel: finished with status 'done'\n",
      "  Preparing metadata (pyproject.toml): started\n",
      "  Preparing metadata (pyproject.toml): finished with status 'done'\n",
      "Requirement already satisfied: pandas>=1.3.0 in c:\\programdata\\anaconda3\\lib\\site-packages (from yfinance) (2.0.2)\n",
      "Requirement already satisfied: numpy>=1.16.5 in c:\\programdata\\anaconda3\\lib\\site-packages (from yfinance) (1.24.3)\n",
      "Collecting multitasking>=0.0.7\n",
      "  Downloading multitasking-0.0.11-py3-none-any.whl (8.5 kB)\n",
      "Requirement already satisfied: lxml>=4.9.1 in c:\\programdata\\anaconda3\\lib\\site-packages (from yfinance) (4.9.1)\n",
      "Requirement already satisfied: soupsieve>1.2 in c:\\programdata\\anaconda3\\lib\\site-packages (from beautifulsoup4>=4.11.1->yfinance) (2.4)\n",
      "Requirement already satisfied: webencodings in c:\\programdata\\anaconda3\\lib\\site-packages (from html5lib>=1.1->yfinance) (0.5.1)\n",
      "Requirement already satisfied: six>=1.9 in c:\\programdata\\anaconda3\\lib\\site-packages (from html5lib>=1.1->yfinance) (1.16.0)\n",
      "Requirement already satisfied: tzdata>=2022.1 in c:\\programdata\\anaconda3\\lib\\site-packages (from pandas>=1.3.0->yfinance) (2023.3)\n",
      "Requirement already satisfied: python-dateutil>=2.8.2 in c:\\programdata\\anaconda3\\lib\\site-packages (from pandas>=1.3.0->yfinance) (2.8.2)\n",
      "Requirement already satisfied: urllib3<3,>=1.21.1 in c:\\programdata\\anaconda3\\lib\\site-packages (from requests>=2.31->yfinance) (1.26.15)\n",
      "Requirement already satisfied: idna<4,>=2.5 in c:\\programdata\\anaconda3\\lib\\site-packages (from requests>=2.31->yfinance) (3.4)\n",
      "Requirement already satisfied: certifi>=2017.4.17 in c:\\programdata\\anaconda3\\lib\\site-packages (from requests>=2.31->yfinance) (2022.12.7)\n",
      "Requirement already satisfied: charset-normalizer<4,>=2 in c:\\programdata\\anaconda3\\lib\\site-packages (from requests>=2.31->yfinance) (2.0.4)\n",
      "Building wheels for collected packages: peewee\n",
      "  Building wheel for peewee (pyproject.toml): started\n",
      "  Building wheel for peewee (pyproject.toml): finished with status 'done'\n",
      "  Created wheel for peewee: filename=peewee-3.17.6-py3-none-any.whl size=138939 sha256=b37639d7425383e1ca6c37f4abc6c2509f04ba5afb13d65985ab19e8b35943ff\n",
      "  Stored in directory: c:\\users\\samsung\\appdata\\local\\pip\\cache\\wheels\\3a\\cd\\3a\\abf2568bf80fd95a4be8f7954d9e4eefc190c1233516a0a029\n",
      "Successfully built peewee\n",
      "Installing collected packages: peewee, multitasking, requests, html5lib, frozendict, yfinance\n",
      "  Attempting uninstall: requests\n",
      "    Found existing installation: requests 2.29.0\n",
      "    Uninstalling requests-2.29.0:\n",
      "      Successfully uninstalled requests-2.29.0\n",
      "Successfully installed frozendict-2.4.4 html5lib-1.1 multitasking-0.0.11 peewee-3.17.6 requests-2.32.3 yfinance-0.2.43\n",
      "Note: you may need to restart the kernel to use updated packages.\n"
     ]
    }
   ],
   "source": [
    "pip install yfinance"
   ]
  },
  {
   "cell_type": "markdown",
   "metadata": {},
   "source": [
    "#### Salvar tick no computador."
   ]
  },
  {
   "cell_type": "code",
   "execution_count": 61,
   "metadata": {},
   "outputs": [],
   "source": [
    "import numpy as np\n",
    "import yfinance as yf\n",
    "import pandas as pd"
   ]
  },
  {
   "cell_type": "markdown",
   "metadata": {},
   "source": [
    "#### Código do professor, necessita digitar o ticker do yahoo finance e indicar pasta para salvamento."
   ]
  },
  {
   "cell_type": "code",
   "execution_count": 4,
   "metadata": {},
   "outputs": [
    {
     "name": "stdout",
     "output_type": "stream",
     "text": [
      "Digite os códigos das ações, um por linha. Digite 'fim' (sem aspas) em uma linha separada para encerrar a lista.\n"
     ]
    },
    {
     "name": "stderr",
     "output_type": "stream",
     "text": [
      "[*********************100%***********************]  1 of 1 completed\n"
     ]
    },
    {
     "name": "stdout",
     "output_type": "stream",
     "text": [
      "Dados salvos com sucesso em: C:/Users/Samsung/Documents/GitHub-Datas/TCC_Machine_Learning\\abev\\abev_serie_historica.xlsx\n",
      "fim\n"
     ]
    }
   ],
   "source": [
    "import yfinance as yf\n",
    "import pandas as pd\n",
    "from openpyxl import Workbook\n",
    "from openpyxl.utils.dataframe import dataframe_to_rows\n",
    "import os\n",
    "\n",
    "def download_historical_data(ticker, start_date, end_date):\n",
    "    try:\n",
    "        data = yf.download(ticker, start=start_date, end=end_date)\n",
    "        return data\n",
    "    except Exception as e:\n",
    "        print(f\"Ocorreu um erro ao baixar os dados para {ticker}: {e}\")\n",
    "        return None\n",
    "\n",
    "if __name__ == \"__main__\":\n",
    "    ticker_symbols = []\n",
    "    print(\"Digite os códigos das ações, um por linha. Digite 'fim' (sem aspas) em uma linha separada para encerrar a lista.\")\n",
    "    ticker_symbol = input().strip()\n",
    "\n",
    "    while ticker_symbol.lower() != \"fim\":\n",
    "        ticker_symbols.append(ticker_symbol)\n",
    "        ticker_symbol = input().strip()\n",
    "\n",
    "    start_date = \"1800-01-01\"\n",
    "    end_date = \"2050-01-01\"\n",
    "\n",
    "    failed_downloads = []\n",
    "\n",
    "    # Diretório de saída fixo\n",
    "    output_directory = 'C:/Users/Samsung/Documents/GitHub-Datas/TCC_Machine_Learning'\n",
    "\n",
    "    for ticker_symbol in ticker_symbols:\n",
    "        historical_data = download_historical_data(ticker_symbol, start_date, end_date)\n",
    "\n",
    "        if historical_data is not None and not historical_data.empty:\n",
    "            historical_data.reset_index(inplace=True)\n",
    "            historical_data['Date'] = historical_data['Date'].dt.strftime('%m/%d/%Y')\n",
    "\n",
    "            folder_path = os.path.join(output_directory, ticker_symbol)\n",
    "\n",
    "            if not os.path.exists(folder_path):\n",
    "                os.makedirs(folder_path)\n",
    "\n",
    "            output_file = os.path.join(folder_path, f\"{ticker_symbol}_serie_historica.xlsx\")\n",
    "            workbook = Workbook()\n",
    "            worksheet = workbook.active\n",
    "\n",
    "            for row in dataframe_to_rows(historical_data, index=False, header=True):\n",
    "                worksheet.append(row)\n",
    "\n",
    "            for cell in worksheet['A'][1:]:\n",
    "                cell.number_format = 'mm/dd/yyyy'\n",
    "\n",
    "            workbook.save(output_file)\n",
    "\n",
    "            print(\"Dados salvos com sucesso em:\", output_file)\n",
    "        else:\n",
    "            failed_downloads.append(ticker_symbol)\n",
    "\n",
    "    if failed_downloads:\n",
    "        print(\"As seguintes ações não puderam ser encontradas ou estão deslistadas no Yahoo Finance:\")\n",
    "        for ticker_symbol in failed_downloads:\n",
    "            print(ticker_symbol)\n",
    "\n",
    "    print(\"fim\")\n"
   ]
  },
  {
   "cell_type": "code",
   "execution_count": 6,
   "metadata": {},
   "outputs": [
    {
     "name": "stdout",
     "output_type": "stream",
     "text": [
      "Digite os códigos das ações, um por linha. Digite 'fim' (sem aspas) em uma linha separada para encerrar a lista.\n"
     ]
    },
    {
     "name": "stderr",
     "output_type": "stream",
     "text": [
      "[*********************100%***********************]  1 of 1 completed\n",
      "[*********************100%***********************]  1 of 1 completed\n",
      "\n",
      "1 Failed download:\n",
      "['AATA']: YFTzMissingError('$%ticker%: possibly delisted; no timezone found')\n"
     ]
    },
    {
     "name": "stdout",
     "output_type": "stream",
     "text": [
      "           Date    Open    High     Low   Close  Adj Close    Volume Ticker\n",
      "0    1997-03-05  0.0000  0.4500  0.4500  0.4500   0.198069     15000   abev\n",
      "1    1997-03-06  0.4500  0.4500  0.4500  0.4500   0.198069         0   abev\n",
      "2    1997-03-07  0.4500  0.4500  0.4500  0.4500   0.198069         0   abev\n",
      "3    1997-03-10  0.0000  0.4875  0.4875  0.4875   0.214575     24000   abev\n",
      "4    1997-03-11  0.4875  0.4875  0.4875  0.4875   0.214575         0   abev\n",
      "...         ...     ...     ...     ...     ...        ...       ...    ...\n",
      "6933 2024-09-23  2.3100  2.3200  2.2900  2.3100   2.310000  14551500   abev\n",
      "6934 2024-09-24  2.3600  2.3700  2.3200  2.3300   2.330000  28081200   abev\n",
      "6935 2024-09-25  2.3600  2.3800  2.3100  2.3300   2.330000  28728100   abev\n",
      "6936 2024-09-26  2.3600  2.3700  2.3500  2.3600   2.360000  10628600   abev\n",
      "6937 2024-09-27  2.3600  2.4100  2.3600  2.4000   2.400000  58602700   abev\n",
      "\n",
      "[6938 rows x 8 columns]\n",
      "As seguintes ações não puderam ser encontradas ou estão deslistadas no Yahoo Finance:\n",
      "AATA\n",
      "fim\n"
     ]
    }
   ],
   "source": [
    "import yfinance as yf\n",
    "import pandas as pd\n",
    "\n",
    "def download_historical_data(ticker, start_date, end_date):\n",
    "    try:\n",
    "        data = yf.download(ticker, start=start_date, end=end_date)\n",
    "        return data\n",
    "    except Exception as e:\n",
    "        print(f\"Ocorreu um erro ao baixar os dados para {ticker}: {e}\")\n",
    "        return None\n",
    "\n",
    "if __name__ == \"__main__\":\n",
    "    ticker_symbols = []\n",
    "    print(\"Digite os códigos das ações, um por linha. Digite 'fim' (sem aspas) em uma linha separada para encerrar a lista.\")\n",
    "    ticker_symbol = input().strip()\n",
    "\n",
    "    while ticker_symbol.lower() != \"fim\":\n",
    "        ticker_symbols.append(ticker_symbol)\n",
    "        ticker_symbol = input().strip()\n",
    "\n",
    "    start_date = \"1800-01-01\"\n",
    "    end_date = \"2050-01-01\"\n",
    "\n",
    "    failed_downloads = []\n",
    "    all_data = pd.DataFrame()\n",
    "\n",
    "    for ticker_symbol in ticker_symbols:\n",
    "        historical_data = download_historical_data(ticker_symbol, start_date, end_date)\n",
    "\n",
    "        if historical_data is not None and not historical_data.empty:\n",
    "            historical_data.reset_index(inplace=True)\n",
    "            historical_data['Ticker'] = ticker_symbol  # Adicionar uma coluna para identificar o ticker no DataFrame\n",
    "            all_data = pd.concat([all_data, historical_data])  # Concatenar os dados no DataFrame final\n",
    "        else:\n",
    "            failed_downloads.append(ticker_symbol)\n",
    "\n",
    "    # Exibir o DataFrame final com todos os tickers\n",
    "    print(all_data)\n",
    "\n",
    "    if failed_downloads:\n",
    "        print(\"As seguintes ações não puderam ser encontradas ou estão deslistadas no Yahoo Finance:\")\n",
    "        for ticker_symbol in failed_downloads:\n",
    "            print(ticker_symbol)\n",
    "\n",
    "    print(\"fim\")\n"
   ]
  },
  {
   "cell_type": "markdown",
   "metadata": {},
   "source": [
    "##### Aqui não salva no computador, para trabalhar somente em python."
   ]
  },
  {
   "cell_type": "code",
   "execution_count": 19,
   "metadata": {},
   "outputs": [
    {
     "name": "stdout",
     "output_type": "stream",
     "text": [
      "Digite os códigos das ações, um por linha. Digite 'fim' (sem aspas) em uma linha separada para encerrar a lista.\n",
      "Baixando dados para: SANB11.SA\n"
     ]
    },
    {
     "name": "stderr",
     "output_type": "stream",
     "text": [
      "[*********************100%***********************]  1 of 1 completed"
     ]
    },
    {
     "name": "stdout",
     "output_type": "stream",
     "text": [
      "Baixando dados para: abev\n"
     ]
    },
    {
     "name": "stderr",
     "output_type": "stream",
     "text": [
      "\n",
      "[*********************100%***********************]  1 of 1 completed"
     ]
    },
    {
     "name": "stdout",
     "output_type": "stream",
     "text": [
      "Dados baixados:\n",
      "           Date       Open       High        Low      Close  Adj Close  \\\n",
      "0    2009-10-07  22.561249  22.695656  21.716402  21.716402   9.030400   \n",
      "1    2009-10-08  21.793205  22.234831  21.121168  21.745203   9.042378   \n",
      "2    2009-10-09  21.726002  22.081223  21.668400  21.956415   9.130212   \n",
      "3    2009-10-13  21.889212  22.033218  21.495588  21.879610   9.098270   \n",
      "4    2009-10-14  21.975616  22.071621  21.658798  21.735603   9.038388   \n",
      "...         ...        ...        ...        ...        ...        ...   \n",
      "6933 2024-09-23   2.310000   2.320000   2.290000   2.310000   2.310000   \n",
      "6934 2024-09-24   2.360000   2.370000   2.320000   2.330000   2.330000   \n",
      "6935 2024-09-25   2.360000   2.380000   2.310000   2.330000   2.330000   \n",
      "6936 2024-09-26   2.360000   2.370000   2.350000   2.360000   2.360000   \n",
      "6937 2024-09-27   2.360000   2.410000   2.360000   2.400000   2.400000   \n",
      "\n",
      "        Volume     Ticker  \n",
      "0     87207046  SANB11.SA  \n",
      "1     30902039  SANB11.SA  \n",
      "2      6485370  SANB11.SA  \n",
      "3      7335010  SANB11.SA  \n",
      "4      7844461  SANB11.SA  \n",
      "...        ...        ...  \n",
      "6933  14551500       abev  \n",
      "6934  28081200       abev  \n",
      "6935  28728100       abev  \n",
      "6936  10628600       abev  \n",
      "6937  58602700       abev  \n",
      "\n",
      "[10657 rows x 8 columns]\n",
      "Fim\n"
     ]
    },
    {
     "name": "stderr",
     "output_type": "stream",
     "text": [
      "\n"
     ]
    }
   ],
   "source": [
    "import yfinance as yf\n",
    "import pandas as pd\n",
    "\n",
    "def download_historical_data(ticker, start_date, end_date):\n",
    "    try:\n",
    "        data = yf.download(ticker, start=start_date, end=end_date)\n",
    "        if data.empty:\n",
    "            print(f\"Nenhum dado encontrado para {ticker}.\")\n",
    "            return None\n",
    "        return data\n",
    "    except Exception as e:\n",
    "        print(f\"Ocorreu um erro ao baixar os dados para {ticker}: {e}\")\n",
    "        return None\n",
    "\n",
    "if __name__ == \"__main__\":\n",
    "    ticker_symbols = []\n",
    "    print(\"Digite os códigos das ações, um por linha. Digite 'fim' (sem aspas) em uma linha separada para encerrar a lista.\")\n",
    "    ticker_symbol = input().strip()\n",
    "\n",
    "    while ticker_symbol.lower() != \"fim\":\n",
    "        ticker_symbols.append(ticker_symbol)\n",
    "        ticker_symbol = input().strip()\n",
    "\n",
    "    start_date = \"1800-01-01\"\n",
    "    end_date = \"2050-01-01\"\n",
    "\n",
    "    failed_downloads = []\n",
    "    all_data = pd.DataFrame()\n",
    "\n",
    "    for ticker_symbol in ticker_symbols:\n",
    "        print(f\"Baixando dados para: {ticker_symbol}\")\n",
    "        historical_data = download_historical_data(ticker_symbol, start_date, end_date)\n",
    "\n",
    "        if historical_data is not None:\n",
    "            historical_data.reset_index(inplace=True)\n",
    "            historical_data['Ticker'] = ticker_symbol  # Adicionar uma coluna para identificar o ticker no DataFrame\n",
    "            all_data = pd.concat([all_data, historical_data])  # Concatenar os dados no DataFrame final\n",
    "        else:\n",
    "            failed_downloads.append(ticker_symbol)\n",
    "\n",
    "    # Exibir o DataFrame final com todos os tickers\n",
    "    print(\"Dados baixados:\")\n",
    "    print(all_data)\n",
    "\n",
    "    if failed_downloads:\n",
    "        print(\"\\nAs seguintes ações não puderam ser encontradas ou estão deslistadas no Yahoo Finance:\")\n",
    "        for ticker_symbol in failed_downloads:\n",
    "            print(ticker_symbol)\n",
    "\n",
    "    print(\"Fim\")\n"
   ]
  },
  {
   "cell_type": "markdown",
   "metadata": {},
   "source": [
    "#### Lista B3 coletada na internet."
   ]
  },
  {
   "cell_type": "code",
   "execution_count": 81,
   "metadata": {},
   "outputs": [
    {
     "data": {
      "text/html": [
       "<div>\n",
       "<style scoped>\n",
       "    .dataframe tbody tr th:only-of-type {\n",
       "        vertical-align: middle;\n",
       "    }\n",
       "\n",
       "    .dataframe tbody tr th {\n",
       "        vertical-align: top;\n",
       "    }\n",
       "\n",
       "    .dataframe thead th {\n",
       "        text-align: right;\n",
       "    }\n",
       "</style>\n",
       "<table border=\"1\" class=\"dataframe\">\n",
       "  <thead>\n",
       "    <tr style=\"text-align: right;\">\n",
       "      <th></th>\n",
       "      <th>Yahoo Stock Tickers</th>\n",
       "      <th>Unnamed: 1</th>\n",
       "      <th>Unnamed: 2</th>\n",
       "      <th>Unnamed: 3</th>\n",
       "      <th>Unnamed: 4</th>\n",
       "      <th>Unnamed: 5</th>\n",
       "      <th>Unnamed: 6</th>\n",
       "      <th>Unnamed: 7</th>\n",
       "    </tr>\n",
       "  </thead>\n",
       "  <tbody>\n",
       "    <tr>\n",
       "      <th>2</th>\n",
       "      <td>Ticker</td>\n",
       "      <td>Name</td>\n",
       "      <td>Exchange</td>\n",
       "      <td>Category Name</td>\n",
       "      <td>Country</td>\n",
       "      <td>NaN</td>\n",
       "      <td>NaN</td>\n",
       "      <td>NaN</td>\n",
       "    </tr>\n",
       "    <tr>\n",
       "      <th>3</th>\n",
       "      <td>OEDV</td>\n",
       "      <td>Osage Exploration and Development, Inc.</td>\n",
       "      <td>PNK</td>\n",
       "      <td>NaN</td>\n",
       "      <td>USA</td>\n",
       "      <td>NaN</td>\n",
       "      <td>NaN</td>\n",
       "      <td>Samir Khan</td>\n",
       "    </tr>\n",
       "    <tr>\n",
       "      <th>4</th>\n",
       "      <td>AAPL</td>\n",
       "      <td>Apple Inc.</td>\n",
       "      <td>NMS</td>\n",
       "      <td>Electronic Equipment</td>\n",
       "      <td>USA</td>\n",
       "      <td>NaN</td>\n",
       "      <td>NaN</td>\n",
       "      <td>simulationconsultant@gmail.com</td>\n",
       "    </tr>\n",
       "    <tr>\n",
       "      <th>5</th>\n",
       "      <td>BAC</td>\n",
       "      <td>Bank of America Corporation</td>\n",
       "      <td>NYQ</td>\n",
       "      <td>Money Center Banks</td>\n",
       "      <td>USA</td>\n",
       "      <td>NaN</td>\n",
       "      <td>NaN</td>\n",
       "      <td>NaN</td>\n",
       "    </tr>\n",
       "    <tr>\n",
       "      <th>6</th>\n",
       "      <td>AMZN</td>\n",
       "      <td>Amazon.com, Inc.</td>\n",
       "      <td>NMS</td>\n",
       "      <td>Catalog &amp; Mail Order Houses</td>\n",
       "      <td>USA</td>\n",
       "      <td>NaN</td>\n",
       "      <td>NaN</td>\n",
       "      <td>This ticker symbol list was downloaded from</td>\n",
       "    </tr>\n",
       "  </tbody>\n",
       "</table>\n",
       "</div>"
      ],
      "text/plain": [
       "  Yahoo Stock Tickers                               Unnamed: 1 Unnamed: 2  \\\n",
       "2              Ticker                                     Name   Exchange   \n",
       "3                OEDV  Osage Exploration and Development, Inc.        PNK   \n",
       "4                AAPL                               Apple Inc.        NMS   \n",
       "5                 BAC              Bank of America Corporation        NYQ   \n",
       "6                AMZN                         Amazon.com, Inc.        NMS   \n",
       "\n",
       "                    Unnamed: 3 Unnamed: 4  Unnamed: 5  Unnamed: 6  \\\n",
       "2                Category Name    Country         NaN         NaN   \n",
       "3                          NaN        USA         NaN         NaN   \n",
       "4         Electronic Equipment        USA         NaN         NaN   \n",
       "5           Money Center Banks        USA         NaN         NaN   \n",
       "6  Catalog & Mail Order Houses        USA         NaN         NaN   \n",
       "\n",
       "                                    Unnamed: 7  \n",
       "2                                          NaN  \n",
       "3                                   Samir Khan  \n",
       "4               simulationconsultant@gmail.com  \n",
       "5                                          NaN  \n",
       "6  This ticker symbol list was downloaded from  "
      ]
     },
     "execution_count": 81,
     "metadata": {},
     "output_type": "execute_result"
    }
   ],
   "source": [
    "ListaB3 = pd.read_excel('C:/Users/Samsung/Documents/GitHub-Datas/TCC_Machine_Learning/Yahoo Ticker Symbols.xlsx', sheet_name= \"Stock\")\n",
    "ListaB3 = ListaB3.iloc[2:]\n",
    "ListaB3.head()"
   ]
  },
  {
   "cell_type": "code",
   "execution_count": 82,
   "metadata": {},
   "outputs": [
    {
     "data": {
      "text/html": [
       "<div>\n",
       "<style scoped>\n",
       "    .dataframe tbody tr th:only-of-type {\n",
       "        vertical-align: middle;\n",
       "    }\n",
       "\n",
       "    .dataframe tbody tr th {\n",
       "        vertical-align: top;\n",
       "    }\n",
       "\n",
       "    .dataframe thead th {\n",
       "        text-align: right;\n",
       "    }\n",
       "</style>\n",
       "<table border=\"1\" class=\"dataframe\">\n",
       "  <thead>\n",
       "    <tr style=\"text-align: right;\">\n",
       "      <th></th>\n",
       "      <th>Ticker</th>\n",
       "      <th>Name</th>\n",
       "      <th>Exchange</th>\n",
       "      <th>Category Name</th>\n",
       "      <th>Country</th>\n",
       "    </tr>\n",
       "  </thead>\n",
       "  <tbody>\n",
       "    <tr>\n",
       "      <th>0</th>\n",
       "      <td>OEDV</td>\n",
       "      <td>Osage Exploration and Development, Inc.</td>\n",
       "      <td>PNK</td>\n",
       "      <td>NaN</td>\n",
       "      <td>USA</td>\n",
       "    </tr>\n",
       "    <tr>\n",
       "      <th>1</th>\n",
       "      <td>AAPL</td>\n",
       "      <td>Apple Inc.</td>\n",
       "      <td>NMS</td>\n",
       "      <td>Electronic Equipment</td>\n",
       "      <td>USA</td>\n",
       "    </tr>\n",
       "    <tr>\n",
       "      <th>2</th>\n",
       "      <td>BAC</td>\n",
       "      <td>Bank of America Corporation</td>\n",
       "      <td>NYQ</td>\n",
       "      <td>Money Center Banks</td>\n",
       "      <td>USA</td>\n",
       "    </tr>\n",
       "    <tr>\n",
       "      <th>3</th>\n",
       "      <td>AMZN</td>\n",
       "      <td>Amazon.com, Inc.</td>\n",
       "      <td>NMS</td>\n",
       "      <td>Catalog &amp; Mail Order Houses</td>\n",
       "      <td>USA</td>\n",
       "    </tr>\n",
       "    <tr>\n",
       "      <th>4</th>\n",
       "      <td>T</td>\n",
       "      <td>AT&amp;T Inc.</td>\n",
       "      <td>NYQ</td>\n",
       "      <td>Telecom Services - Domestic</td>\n",
       "      <td>USA</td>\n",
       "    </tr>\n",
       "  </tbody>\n",
       "</table>\n",
       "</div>"
      ],
      "text/plain": [
       "0 Ticker                                     Name Exchange  \\\n",
       "0   OEDV  Osage Exploration and Development, Inc.      PNK   \n",
       "1   AAPL                               Apple Inc.      NMS   \n",
       "2    BAC              Bank of America Corporation      NYQ   \n",
       "3   AMZN                         Amazon.com, Inc.      NMS   \n",
       "4      T                                AT&T Inc.      NYQ   \n",
       "\n",
       "0                Category Name Country  \n",
       "0                          NaN     USA  \n",
       "1         Electronic Equipment     USA  \n",
       "2           Money Center Banks     USA  \n",
       "3  Catalog & Mail Order Houses     USA  \n",
       "4  Telecom Services - Domestic     USA  "
      ]
     },
     "execution_count": 82,
     "metadata": {},
     "output_type": "execute_result"
    }
   ],
   "source": [
    "ListaB3 = ListaB3.reset_index(drop=True)\n",
    "ListaB3.columns = ListaB3.iloc[0]  \n",
    "ListaB3 = ListaB3.drop(index=0).reset_index(drop=True)\n",
    "ListaB3 = ListaB3[['Ticker', 'Name', 'Exchange', 'Category Name', 'Country']]\n",
    "ListaB3.head()"
   ]
  },
  {
   "cell_type": "code",
   "execution_count": 83,
   "metadata": {},
   "outputs": [
    {
     "data": {
      "text/html": [
       "<div>\n",
       "<style scoped>\n",
       "    .dataframe tbody tr th:only-of-type {\n",
       "        vertical-align: middle;\n",
       "    }\n",
       "\n",
       "    .dataframe tbody tr th {\n",
       "        vertical-align: top;\n",
       "    }\n",
       "\n",
       "    .dataframe thead th {\n",
       "        text-align: right;\n",
       "    }\n",
       "</style>\n",
       "<table border=\"1\" class=\"dataframe\">\n",
       "  <thead>\n",
       "    <tr style=\"text-align: right;\">\n",
       "      <th></th>\n",
       "      <th>Ticker</th>\n",
       "      <th>Name</th>\n",
       "      <th>Exchange</th>\n",
       "      <th>Category Name</th>\n",
       "      <th>Country</th>\n",
       "    </tr>\n",
       "  </thead>\n",
       "  <tbody>\n",
       "    <tr>\n",
       "      <th>0</th>\n",
       "      <td>LAME4.SA</td>\n",
       "      <td>Lojas Americanas S.A.</td>\n",
       "      <td>SAO</td>\n",
       "      <td>Department Stores</td>\n",
       "      <td>Brazil</td>\n",
       "    </tr>\n",
       "    <tr>\n",
       "      <th>1</th>\n",
       "      <td>ABEV3.SA</td>\n",
       "      <td>Ambev S.A.</td>\n",
       "      <td>SAO</td>\n",
       "      <td>Beverages - Brewers</td>\n",
       "      <td>Brazil</td>\n",
       "    </tr>\n",
       "    <tr>\n",
       "      <th>2</th>\n",
       "      <td>VALE5.SA</td>\n",
       "      <td>Vale S.A.</td>\n",
       "      <td>SAO</td>\n",
       "      <td>Industrial Metals &amp; Minerals</td>\n",
       "      <td>Brazil</td>\n",
       "    </tr>\n",
       "    <tr>\n",
       "      <th>3</th>\n",
       "      <td>SBSP3.SA</td>\n",
       "      <td>Companhia de Saneamento BÃ¡sico do Estado de S...</td>\n",
       "      <td>SAO</td>\n",
       "      <td>Water Utilities</td>\n",
       "      <td>Brazil</td>\n",
       "    </tr>\n",
       "    <tr>\n",
       "      <th>4</th>\n",
       "      <td>VALE3.SA</td>\n",
       "      <td>Vale S.A.</td>\n",
       "      <td>SAO</td>\n",
       "      <td>Industrial Metals &amp; Minerals</td>\n",
       "      <td>Brazil</td>\n",
       "    </tr>\n",
       "  </tbody>\n",
       "</table>\n",
       "</div>"
      ],
      "text/plain": [
       "0    Ticker                                               Name Exchange  \\\n",
       "0  LAME4.SA                              Lojas Americanas S.A.      SAO   \n",
       "1  ABEV3.SA                                         Ambev S.A.      SAO   \n",
       "2  VALE5.SA                                          Vale S.A.      SAO   \n",
       "3  SBSP3.SA  Companhia de Saneamento BÃ¡sico do Estado de S...      SAO   \n",
       "4  VALE3.SA                                          Vale S.A.      SAO   \n",
       "\n",
       "0                 Category Name Country  \n",
       "0             Department Stores  Brazil  \n",
       "1           Beverages - Brewers  Brazil  \n",
       "2  Industrial Metals & Minerals  Brazil  \n",
       "3               Water Utilities  Brazil  \n",
       "4  Industrial Metals & Minerals  Brazil  "
      ]
     },
     "execution_count": 83,
     "metadata": {},
     "output_type": "execute_result"
    }
   ],
   "source": [
    "ListaB3 = ListaB3[ListaB3['Country'] == 'Brazil'].reset_index(drop=True)\n",
    "ListaB3.head()\n"
   ]
  },
  {
   "cell_type": "code",
   "execution_count": 84,
   "metadata": {},
   "outputs": [],
   "source": [
    "ListaB3.to_excel(\"C:/Users/Samsung/Documents/GitHub-Datas/TCC_Machine_Learning/ListaB3.xlsx\", index=False)"
   ]
  },
  {
   "cell_type": "markdown",
   "metadata": {},
   "source": [
    "##### Definir a lista somente os 5 primeiros, para ir testando e fazendo sem pesar muito, depois faço todo o processo com a lista completa."
   ]
  },
  {
   "cell_type": "code",
   "execution_count": 85,
   "metadata": {},
   "outputs": [
    {
     "data": {
      "text/html": [
       "<div>\n",
       "<style scoped>\n",
       "    .dataframe tbody tr th:only-of-type {\n",
       "        vertical-align: middle;\n",
       "    }\n",
       "\n",
       "    .dataframe tbody tr th {\n",
       "        vertical-align: top;\n",
       "    }\n",
       "\n",
       "    .dataframe thead th {\n",
       "        text-align: right;\n",
       "    }\n",
       "</style>\n",
       "<table border=\"1\" class=\"dataframe\">\n",
       "  <thead>\n",
       "    <tr style=\"text-align: right;\">\n",
       "      <th></th>\n",
       "      <th>Ticker</th>\n",
       "      <th>Name</th>\n",
       "      <th>Exchange</th>\n",
       "      <th>Category Name</th>\n",
       "      <th>Country</th>\n",
       "    </tr>\n",
       "  </thead>\n",
       "  <tbody>\n",
       "    <tr>\n",
       "      <th>0</th>\n",
       "      <td>LAME4.SA</td>\n",
       "      <td>Lojas Americanas S.A.</td>\n",
       "      <td>SAO</td>\n",
       "      <td>Department Stores</td>\n",
       "      <td>Brazil</td>\n",
       "    </tr>\n",
       "    <tr>\n",
       "      <th>1</th>\n",
       "      <td>ABEV3.SA</td>\n",
       "      <td>Ambev S.A.</td>\n",
       "      <td>SAO</td>\n",
       "      <td>Beverages - Brewers</td>\n",
       "      <td>Brazil</td>\n",
       "    </tr>\n",
       "    <tr>\n",
       "      <th>2</th>\n",
       "      <td>VALE5.SA</td>\n",
       "      <td>Vale S.A.</td>\n",
       "      <td>SAO</td>\n",
       "      <td>Industrial Metals &amp; Minerals</td>\n",
       "      <td>Brazil</td>\n",
       "    </tr>\n",
       "    <tr>\n",
       "      <th>3</th>\n",
       "      <td>SBSP3.SA</td>\n",
       "      <td>Companhia de Saneamento BÃ¡sico do Estado de S...</td>\n",
       "      <td>SAO</td>\n",
       "      <td>Water Utilities</td>\n",
       "      <td>Brazil</td>\n",
       "    </tr>\n",
       "    <tr>\n",
       "      <th>4</th>\n",
       "      <td>VALE3.SA</td>\n",
       "      <td>Vale S.A.</td>\n",
       "      <td>SAO</td>\n",
       "      <td>Industrial Metals &amp; Minerals</td>\n",
       "      <td>Brazil</td>\n",
       "    </tr>\n",
       "  </tbody>\n",
       "</table>\n",
       "</div>"
      ],
      "text/plain": [
       "0    Ticker                                               Name Exchange  \\\n",
       "0  LAME4.SA                              Lojas Americanas S.A.      SAO   \n",
       "1  ABEV3.SA                                         Ambev S.A.      SAO   \n",
       "2  VALE5.SA                                          Vale S.A.      SAO   \n",
       "3  SBSP3.SA  Companhia de Saneamento BÃ¡sico do Estado de S...      SAO   \n",
       "4  VALE3.SA                                          Vale S.A.      SAO   \n",
       "\n",
       "0                 Category Name Country  \n",
       "0             Department Stores  Brazil  \n",
       "1           Beverages - Brewers  Brazil  \n",
       "2  Industrial Metals & Minerals  Brazil  \n",
       "3               Water Utilities  Brazil  \n",
       "4  Industrial Metals & Minerals  Brazil  "
      ]
     },
     "execution_count": 85,
     "metadata": {},
     "output_type": "execute_result"
    }
   ],
   "source": [
    "ListaB3_5 = ListaB3.iloc[:5,:]\n",
    "ListaB3_5.head(10)"
   ]
  },
  {
   "cell_type": "markdown",
   "metadata": {},
   "source": [
    "#### Baixar a partir da lista."
   ]
  },
  {
   "cell_type": "code",
   "execution_count": 86,
   "metadata": {},
   "outputs": [
    {
     "name": "stdout",
     "output_type": "stream",
     "text": [
      "Baixando dados para: LAME4.SA\n"
     ]
    },
    {
     "name": "stderr",
     "output_type": "stream",
     "text": [
      "[*********************100%***********************]  1 of 1 completed\n",
      "\n",
      "1 Failed download:\n",
      "['LAME4.SA']: YFTzMissingError('$%ticker%: possibly delisted; no timezone found')\n"
     ]
    },
    {
     "name": "stdout",
     "output_type": "stream",
     "text": [
      "Nenhum dado encontrado para LAME4.SA.\n",
      "Baixando dados para: ABEV3.SA\n"
     ]
    },
    {
     "name": "stderr",
     "output_type": "stream",
     "text": [
      "[*********************100%***********************]  1 of 1 completed\n"
     ]
    },
    {
     "name": "stdout",
     "output_type": "stream",
     "text": [
      "Baixando dados para: VALE5.SA\n"
     ]
    },
    {
     "name": "stderr",
     "output_type": "stream",
     "text": [
      "[*********************100%***********************]  1 of 1 completed\n",
      "\n",
      "1 Failed download:\n",
      "['VALE5.SA']: YFPricesMissingError('$%ticker%: possibly delisted; no price data found  (1d 1800-01-01 -> 2050-01-01) (Yahoo error = \"1d data not available for startTime=-5364644640 and endTime=1727554246. Only 100 years worth of day granularity data are allowed to be fetched per request.\")')\n"
     ]
    },
    {
     "name": "stdout",
     "output_type": "stream",
     "text": [
      "Nenhum dado encontrado para VALE5.SA.\n",
      "Baixando dados para: SBSP3.SA\n"
     ]
    },
    {
     "name": "stderr",
     "output_type": "stream",
     "text": [
      "[*********************100%***********************]  1 of 1 completed\n"
     ]
    },
    {
     "name": "stdout",
     "output_type": "stream",
     "text": [
      "Baixando dados para: VALE3.SA\n"
     ]
    },
    {
     "name": "stderr",
     "output_type": "stream",
     "text": [
      "[*********************100%***********************]  1 of 1 completed"
     ]
    },
    {
     "name": "stdout",
     "output_type": "stream",
     "text": [
      "Dados baixados:\n",
      "           Date       Open       High        Low      Close  Adj Close  \\\n",
      "0    2000-01-05   0.520882   0.520882   0.520882   0.520882   0.297814   \n",
      "1    2000-01-06   0.494478   0.494478   0.494478   0.494478   0.282718   \n",
      "2    2000-01-07   0.494478   0.494478   0.494478   0.494478   0.282718   \n",
      "3    2000-01-10   0.494478   0.494478   0.494478   0.494478   0.282718   \n",
      "4    2000-01-11   0.494478   0.494478   0.494478   0.494478   0.282718   \n",
      "...         ...        ...        ...        ...        ...        ...   \n",
      "6210 2024-09-23  57.090000  57.860001  56.599998  57.529999  57.529999   \n",
      "6211 2024-09-24  60.209999  60.740002  59.639999  60.340000  60.340000   \n",
      "6212 2024-09-25  60.720001  61.250000  60.419998  60.610001  60.610001   \n",
      "6213 2024-09-26  62.599998  64.379997  62.450001  64.250000  64.250000   \n",
      "6214 2024-09-27  64.699997  65.040001  63.169998  63.959999  63.959999   \n",
      "\n",
      "        Volume    Ticker  \n",
      "0          985  ABEV3.SA  \n",
      "1          227  ABEV3.SA  \n",
      "2          151  ABEV3.SA  \n",
      "3         1516  ABEV3.SA  \n",
      "4         3791  ABEV3.SA  \n",
      "...        ...       ...  \n",
      "6210  18164700  VALE3.SA  \n",
      "6211  44910100  VALE3.SA  \n",
      "6212  21557700  VALE3.SA  \n",
      "6213  61449300  VALE3.SA  \n",
      "6214  37237900  VALE3.SA  \n",
      "\n",
      "[18643 rows x 8 columns]\n",
      "\n",
      "As seguintes ações não puderam ser encontradas ou estão deslistadas no Yahoo Finance:\n",
      "LAME4.SA\n",
      "VALE5.SA\n",
      "Fim\n"
     ]
    },
    {
     "name": "stderr",
     "output_type": "stream",
     "text": [
      "\n"
     ]
    }
   ],
   "source": [
    "import yfinance as yf\n",
    "import pandas as pd\n",
    "\n",
    "def download_historical_data(ticker, start_date, end_date):\n",
    "    try:\n",
    "        data = yf.download(ticker, start=start_date, end=end_date)\n",
    "        if data.empty:\n",
    "            print(f\"Nenhum dado encontrado para {ticker}.\")\n",
    "            return None\n",
    "        return data\n",
    "    except Exception as e:\n",
    "        print(f\"Ocorreu um erro ao baixar os dados para {ticker}: {e}\")\n",
    "        return None\n",
    "\n",
    "if __name__ == \"__main__\":\n",
    "    ticker_symbols = ListaB3_5['Ticker'].tolist()  # Pega todos os tickers da coluna \"Ticker\"\n",
    "\n",
    "    start_date = \"1800-01-01\"\n",
    "    end_date = \"2050-01-01\"\n",
    "\n",
    "    failed_downloads = []\n",
    "    all_data = pd.DataFrame()\n",
    "\n",
    "    for ticker_symbol in ticker_symbols:\n",
    "        print(f\"Baixando dados para: {ticker_symbol}\")\n",
    "        historical_data = download_historical_data(ticker_symbol, start_date, end_date)\n",
    "\n",
    "        if historical_data is not None:\n",
    "            historical_data.reset_index(inplace=True)\n",
    "            historical_data['Ticker'] = ticker_symbol  # Adicionar uma coluna para identificar o ticker no DataFrame\n",
    "            all_data = pd.concat([all_data, historical_data])  # Concatenar os dados no DataFrame final\n",
    "        else:\n",
    "            failed_downloads.append(ticker_symbol)\n",
    "\n",
    "    # Exibir o DataFrame final com todos os tickers\n",
    "    print(\"Dados baixados:\")\n",
    "\n",
    "    if failed_downloads:\n",
    "        print(\"\\nAs seguintes ações não puderam ser encontradas ou estão deslistadas no Yahoo Finance:\")\n",
    "        for ticker_symbol in failed_downloads:\n",
    "            print(ticker_symbol)\n",
    "\n",
    "    print(\"Fim\")\n"
   ]
  },
  {
   "cell_type": "code",
   "execution_count": 95,
   "metadata": {},
   "outputs": [
    {
     "name": "stdout",
     "output_type": "stream",
     "text": [
      "<class 'pandas.core.frame.DataFrame'>\n",
      "Index: 18643 entries, 0 to 6214\n",
      "Data columns (total 8 columns):\n",
      " #   Column     Non-Null Count  Dtype         \n",
      "---  ------     --------------  -----         \n",
      " 0   Date       18643 non-null  datetime64[ns]\n",
      " 1   Open       18643 non-null  float64       \n",
      " 2   High       18643 non-null  float64       \n",
      " 3   Low        18643 non-null  float64       \n",
      " 4   Close      18643 non-null  float64       \n",
      " 5   Adj Close  18643 non-null  float64       \n",
      " 6   Volume     18643 non-null  int64         \n",
      " 7   Ticker     18643 non-null  object        \n",
      "dtypes: datetime64[ns](1), float64(5), int64(1), object(1)\n",
      "memory usage: 1.3+ MB\n"
     ]
    }
   ],
   "source": [
    "all_data.info()"
   ]
  },
  {
   "cell_type": "code",
   "execution_count": 87,
   "metadata": {},
   "outputs": [
    {
     "data": {
      "text/html": [
       "<div>\n",
       "<style scoped>\n",
       "    .dataframe tbody tr th:only-of-type {\n",
       "        vertical-align: middle;\n",
       "    }\n",
       "\n",
       "    .dataframe tbody tr th {\n",
       "        vertical-align: top;\n",
       "    }\n",
       "\n",
       "    .dataframe thead th {\n",
       "        text-align: right;\n",
       "    }\n",
       "</style>\n",
       "<table border=\"1\" class=\"dataframe\">\n",
       "  <thead>\n",
       "    <tr style=\"text-align: right;\">\n",
       "      <th></th>\n",
       "      <th>Date</th>\n",
       "      <th>Open</th>\n",
       "      <th>High</th>\n",
       "      <th>Low</th>\n",
       "      <th>Close</th>\n",
       "      <th>Adj Close</th>\n",
       "      <th>Volume</th>\n",
       "      <th>Ticker</th>\n",
       "    </tr>\n",
       "  </thead>\n",
       "  <tbody>\n",
       "    <tr>\n",
       "      <th>0</th>\n",
       "      <td>2000-01-05</td>\n",
       "      <td>0.520882</td>\n",
       "      <td>0.520882</td>\n",
       "      <td>0.520882</td>\n",
       "      <td>0.520882</td>\n",
       "      <td>0.297814</td>\n",
       "      <td>985</td>\n",
       "      <td>ABEV3.SA</td>\n",
       "    </tr>\n",
       "    <tr>\n",
       "      <th>1</th>\n",
       "      <td>2000-01-06</td>\n",
       "      <td>0.494478</td>\n",
       "      <td>0.494478</td>\n",
       "      <td>0.494478</td>\n",
       "      <td>0.494478</td>\n",
       "      <td>0.282718</td>\n",
       "      <td>227</td>\n",
       "      <td>ABEV3.SA</td>\n",
       "    </tr>\n",
       "    <tr>\n",
       "      <th>2</th>\n",
       "      <td>2000-01-07</td>\n",
       "      <td>0.494478</td>\n",
       "      <td>0.494478</td>\n",
       "      <td>0.494478</td>\n",
       "      <td>0.494478</td>\n",
       "      <td>0.282718</td>\n",
       "      <td>151</td>\n",
       "      <td>ABEV3.SA</td>\n",
       "    </tr>\n",
       "    <tr>\n",
       "      <th>3</th>\n",
       "      <td>2000-01-10</td>\n",
       "      <td>0.494478</td>\n",
       "      <td>0.494478</td>\n",
       "      <td>0.494478</td>\n",
       "      <td>0.494478</td>\n",
       "      <td>0.282718</td>\n",
       "      <td>1516</td>\n",
       "      <td>ABEV3.SA</td>\n",
       "    </tr>\n",
       "    <tr>\n",
       "      <th>4</th>\n",
       "      <td>2000-01-11</td>\n",
       "      <td>0.494478</td>\n",
       "      <td>0.494478</td>\n",
       "      <td>0.494478</td>\n",
       "      <td>0.494478</td>\n",
       "      <td>0.282718</td>\n",
       "      <td>3791</td>\n",
       "      <td>ABEV3.SA</td>\n",
       "    </tr>\n",
       "  </tbody>\n",
       "</table>\n",
       "</div>"
      ],
      "text/plain": [
       "        Date      Open      High       Low     Close  Adj Close  Volume  \\\n",
       "0 2000-01-05  0.520882  0.520882  0.520882  0.520882   0.297814     985   \n",
       "1 2000-01-06  0.494478  0.494478  0.494478  0.494478   0.282718     227   \n",
       "2 2000-01-07  0.494478  0.494478  0.494478  0.494478   0.282718     151   \n",
       "3 2000-01-10  0.494478  0.494478  0.494478  0.494478   0.282718    1516   \n",
       "4 2000-01-11  0.494478  0.494478  0.494478  0.494478   0.282718    3791   \n",
       "\n",
       "     Ticker  \n",
       "0  ABEV3.SA  \n",
       "1  ABEV3.SA  \n",
       "2  ABEV3.SA  \n",
       "3  ABEV3.SA  \n",
       "4  ABEV3.SA  "
      ]
     },
     "execution_count": 87,
     "metadata": {},
     "output_type": "execute_result"
    }
   ],
   "source": [
    "all_data.head()"
   ]
  },
  {
   "cell_type": "markdown",
   "metadata": {},
   "source": [
    "##### Caso queira selecionar um ticker específico nesse caso: Companhia de Saneamento Básico do Estado de São Paulo - SABESP (SBSP3)"
   ]
  },
  {
   "cell_type": "code",
   "execution_count": 88,
   "metadata": {},
   "outputs": [
    {
     "data": {
      "text/html": [
       "<div>\n",
       "<style scoped>\n",
       "    .dataframe tbody tr th:only-of-type {\n",
       "        vertical-align: middle;\n",
       "    }\n",
       "\n",
       "    .dataframe tbody tr th {\n",
       "        vertical-align: top;\n",
       "    }\n",
       "\n",
       "    .dataframe thead th {\n",
       "        text-align: right;\n",
       "    }\n",
       "</style>\n",
       "<table border=\"1\" class=\"dataframe\">\n",
       "  <thead>\n",
       "    <tr style=\"text-align: right;\">\n",
       "      <th></th>\n",
       "      <th>Date</th>\n",
       "      <th>Open</th>\n",
       "      <th>High</th>\n",
       "      <th>Low</th>\n",
       "      <th>Close</th>\n",
       "      <th>Adj Close</th>\n",
       "      <th>Volume</th>\n",
       "      <th>Ticker</th>\n",
       "    </tr>\n",
       "  </thead>\n",
       "  <tbody>\n",
       "    <tr>\n",
       "      <th>0</th>\n",
       "      <td>2000-01-03</td>\n",
       "      <td>7.888750</td>\n",
       "      <td>7.962916</td>\n",
       "      <td>7.777916</td>\n",
       "      <td>7.815000</td>\n",
       "      <td>4.741246</td>\n",
       "      <td>2536</td>\n",
       "      <td>SBSP3.SA</td>\n",
       "    </tr>\n",
       "    <tr>\n",
       "      <th>1</th>\n",
       "      <td>2000-01-04</td>\n",
       "      <td>7.629583</td>\n",
       "      <td>7.629583</td>\n",
       "      <td>7.296250</td>\n",
       "      <td>7.351666</td>\n",
       "      <td>4.460147</td>\n",
       "      <td>2432</td>\n",
       "      <td>SBSP3.SA</td>\n",
       "    </tr>\n",
       "    <tr>\n",
       "      <th>2</th>\n",
       "      <td>2000-01-05</td>\n",
       "      <td>7.259166</td>\n",
       "      <td>7.259166</td>\n",
       "      <td>7.037916</td>\n",
       "      <td>7.147083</td>\n",
       "      <td>4.336030</td>\n",
       "      <td>6675</td>\n",
       "      <td>SBSP3.SA</td>\n",
       "    </tr>\n",
       "    <tr>\n",
       "      <th>3</th>\n",
       "      <td>2000-01-06</td>\n",
       "      <td>7.148333</td>\n",
       "      <td>7.185000</td>\n",
       "      <td>7.000000</td>\n",
       "      <td>7.111250</td>\n",
       "      <td>4.314290</td>\n",
       "      <td>2989</td>\n",
       "      <td>SBSP3.SA</td>\n",
       "    </tr>\n",
       "    <tr>\n",
       "      <th>4</th>\n",
       "      <td>2000-01-07</td>\n",
       "      <td>7.222083</td>\n",
       "      <td>7.222083</td>\n",
       "      <td>7.185000</td>\n",
       "      <td>7.211250</td>\n",
       "      <td>4.374959</td>\n",
       "      <td>2025</td>\n",
       "      <td>SBSP3.SA</td>\n",
       "    </tr>\n",
       "  </tbody>\n",
       "</table>\n",
       "</div>"
      ],
      "text/plain": [
       "        Date      Open      High       Low     Close  Adj Close  Volume  \\\n",
       "0 2000-01-03  7.888750  7.962916  7.777916  7.815000   4.741246    2536   \n",
       "1 2000-01-04  7.629583  7.629583  7.296250  7.351666   4.460147    2432   \n",
       "2 2000-01-05  7.259166  7.259166  7.037916  7.147083   4.336030    6675   \n",
       "3 2000-01-06  7.148333  7.185000  7.000000  7.111250   4.314290    2989   \n",
       "4 2000-01-07  7.222083  7.222083  7.185000  7.211250   4.374959    2025   \n",
       "\n",
       "     Ticker  \n",
       "0  SBSP3.SA  \n",
       "1  SBSP3.SA  \n",
       "2  SBSP3.SA  \n",
       "3  SBSP3.SA  \n",
       "4  SBSP3.SA  "
      ]
     },
     "execution_count": 88,
     "metadata": {},
     "output_type": "execute_result"
    }
   ],
   "source": [
    "SBSP3_SA = all_data[all_data['Ticker'] == 'SBSP3.SA'].reset_index(drop=True)\n",
    "SBSP3_SA.head()"
   ]
  },
  {
   "cell_type": "code",
   "execution_count": 92,
   "metadata": {},
   "outputs": [
    {
     "data": {
      "text/plain": [
       "4085"
      ]
     },
     "execution_count": 92,
     "metadata": {},
     "output_type": "execute_result"
    }
   ],
   "source": [
    "SBSP3_SA['Open'].nunique()"
   ]
  },
  {
   "cell_type": "code",
   "execution_count": 94,
   "metadata": {},
   "outputs": [
    {
     "data": {
      "text/plain": [
       "False"
      ]
     },
     "execution_count": 94,
     "metadata": {},
     "output_type": "execute_result"
    }
   ],
   "source": [
    "SBSP3_SA.isnull().values.any()"
   ]
  },
  {
   "cell_type": "markdown",
   "metadata": {},
   "source": [
    "#### Salvando arquivo com todos tickers."
   ]
  },
  {
   "cell_type": "code",
   "execution_count": 89,
   "metadata": {},
   "outputs": [],
   "source": [
    "all_data.to_excel(\"C:/Users/Samsung/Documents/GitHub-Datas/TCC_Machine_Learning/Dados_bolsa.xlsx\", index=False)"
   ]
  },
  {
   "cell_type": "markdown",
   "metadata": {},
   "source": [
    "##### Interpolar."
   ]
  },
  {
   "cell_type": "code",
   "execution_count": 90,
   "metadata": {},
   "outputs": [],
   "source": [
    "all_data['Open'] = all_data['Open'].interpolate(method='linear')\n",
    "all_data['High'] = all_data['High'].interpolate(method='linear')\n",
    "all_data['Low'] = all_data['Low'].interpolate(method='linear')\n",
    "all_data['Close'] = all_data['Close'].interpolate(method='linear')\n",
    "all_data['Adj Close'] = all_data['Adj Close'].interpolate(method='linear')\n"
   ]
  },
  {
   "cell_type": "markdown",
   "metadata": {},
   "source": [
    "#### Salvando novamente após a interpolação."
   ]
  },
  {
   "cell_type": "code",
   "execution_count": 93,
   "metadata": {},
   "outputs": [],
   "source": [
    "all_data.to_excel(\"C:/Users/Samsung/Documents/GitHub-Datas/TCC_Machine_Learning/Dados_bolsa.xlsx\", index=False)"
   ]
  },
  {
   "cell_type": "code",
   "execution_count": null,
   "metadata": {},
   "outputs": [],
   "source": []
  }
 ],
 "metadata": {
  "kernelspec": {
   "display_name": "base",
   "language": "python",
   "name": "python3"
  },
  "language_info": {
   "codemirror_mode": {
    "name": "ipython",
    "version": 3
   },
   "file_extension": ".py",
   "mimetype": "text/x-python",
   "name": "python",
   "nbconvert_exporter": "python",
   "pygments_lexer": "ipython3",
   "version": "3.8.16"
  }
 },
 "nbformat": 4,
 "nbformat_minor": 2
}
