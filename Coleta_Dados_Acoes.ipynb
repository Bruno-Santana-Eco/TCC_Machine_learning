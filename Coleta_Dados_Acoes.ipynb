{
 "cells": [
  {
   "cell_type": "code",
   "execution_count": null,
   "metadata": {},
   "outputs": [],
   "source": [
    "pip install pyarrow\n",
    "pip install fastparquet\n",
    "pip install yfinance"
   ]
  },
  {
   "cell_type": "markdown",
   "metadata": {},
   "source": [
    "#### Salvar tick no computador."
   ]
  },
  {
   "cell_type": "code",
   "execution_count": 2,
   "metadata": {},
   "outputs": [],
   "source": [
    "import numpy as np\n",
    "import yfinance as yf\n",
    "import pandas as pd"
   ]
  },
  {
   "cell_type": "markdown",
   "metadata": {},
   "source": [
    "#### Código do professor, necessita digitar o ticker do yahoo finance e indicar pasta para salvamento."
   ]
  },
  {
   "cell_type": "code",
   "execution_count": 4,
   "metadata": {},
   "outputs": [
    {
     "name": "stdout",
     "output_type": "stream",
     "text": [
      "Digite os códigos das ações, um por linha. Digite 'fim' (sem aspas) em uma linha separada para encerrar a lista.\n"
     ]
    },
    {
     "name": "stderr",
     "output_type": "stream",
     "text": [
      "[*********************100%***********************]  1 of 1 completed\n"
     ]
    },
    {
     "name": "stdout",
     "output_type": "stream",
     "text": [
      "Dados salvos com sucesso em: C:/Users/Samsung/Documents/GitHub-Datas/TCC_Machine_Learning\\abev\\abev_serie_historica.xlsx\n",
      "fim\n"
     ]
    }
   ],
   "source": [
    "import yfinance as yf\n",
    "import pandas as pd\n",
    "from openpyxl import Workbook\n",
    "from openpyxl.utils.dataframe import dataframe_to_rows\n",
    "import os\n",
    "\n",
    "def download_historical_data(ticker, start_date, end_date):\n",
    "    try:\n",
    "        data = yf.download(ticker, start=start_date, end=end_date)\n",
    "        return data\n",
    "    except Exception as e:\n",
    "        print(f\"Ocorreu um erro ao baixar os dados para {ticker}: {e}\")\n",
    "        return None\n",
    "\n",
    "if __name__ == \"__main__\":\n",
    "    ticker_symbols = []\n",
    "    print(\"Digite os códigos das ações, um por linha. Digite 'fim' (sem aspas) em uma linha separada para encerrar a lista.\")\n",
    "    ticker_symbol = input().strip()\n",
    "\n",
    "    while ticker_symbol.lower() != \"fim\":\n",
    "        ticker_symbols.append(ticker_symbol)\n",
    "        ticker_symbol = input().strip()\n",
    "\n",
    "    start_date = \"1800-01-01\"\n",
    "    end_date = \"2050-01-01\"\n",
    "\n",
    "    failed_downloads = []\n",
    "\n",
    "    # Diretório de saída fixo\n",
    "    output_directory = 'C:/Users/Samsung/Documents/GitHub-Datas/TCC_Machine_Learning'\n",
    "\n",
    "    for ticker_symbol in ticker_symbols:\n",
    "        historical_data = download_historical_data(ticker_symbol, start_date, end_date)\n",
    "\n",
    "        if historical_data is not None and not historical_data.empty:\n",
    "            historical_data.reset_index(inplace=True)\n",
    "            historical_data['Date'] = historical_data['Date'].dt.strftime('%m/%d/%Y')\n",
    "\n",
    "            folder_path = os.path.join(output_directory, ticker_symbol)\n",
    "\n",
    "            if not os.path.exists(folder_path):\n",
    "                os.makedirs(folder_path)\n",
    "\n",
    "            output_file = os.path.join(folder_path, f\"{ticker_symbol}_serie_historica.xlsx\")\n",
    "            workbook = Workbook()\n",
    "            worksheet = workbook.active\n",
    "\n",
    "            for row in dataframe_to_rows(historical_data, index=False, header=True):\n",
    "                worksheet.append(row)\n",
    "\n",
    "            for cell in worksheet['A'][1:]:\n",
    "                cell.number_format = 'mm/dd/yyyy'\n",
    "\n",
    "            workbook.save(output_file)\n",
    "\n",
    "            print(\"Dados salvos com sucesso em:\", output_file)\n",
    "        else:\n",
    "            failed_downloads.append(ticker_symbol)\n",
    "\n",
    "    if failed_downloads:\n",
    "        print(\"As seguintes ações não puderam ser encontradas ou estão deslistadas no Yahoo Finance:\")\n",
    "        for ticker_symbol in failed_downloads:\n",
    "            print(ticker_symbol)\n",
    "\n",
    "    print(\"fim\")\n"
   ]
  },
  {
   "cell_type": "code",
   "execution_count": 6,
   "metadata": {},
   "outputs": [
    {
     "name": "stdout",
     "output_type": "stream",
     "text": [
      "Digite os códigos das ações, um por linha. Digite 'fim' (sem aspas) em uma linha separada para encerrar a lista.\n"
     ]
    },
    {
     "name": "stderr",
     "output_type": "stream",
     "text": [
      "[*********************100%***********************]  1 of 1 completed\n",
      "[*********************100%***********************]  1 of 1 completed\n",
      "\n",
      "1 Failed download:\n",
      "['AATA']: YFTzMissingError('$%ticker%: possibly delisted; no timezone found')\n"
     ]
    },
    {
     "name": "stdout",
     "output_type": "stream",
     "text": [
      "           Date    Open    High     Low   Close  Adj Close    Volume Ticker\n",
      "0    1997-03-05  0.0000  0.4500  0.4500  0.4500   0.198069     15000   abev\n",
      "1    1997-03-06  0.4500  0.4500  0.4500  0.4500   0.198069         0   abev\n",
      "2    1997-03-07  0.4500  0.4500  0.4500  0.4500   0.198069         0   abev\n",
      "3    1997-03-10  0.0000  0.4875  0.4875  0.4875   0.214575     24000   abev\n",
      "4    1997-03-11  0.4875  0.4875  0.4875  0.4875   0.214575         0   abev\n",
      "...         ...     ...     ...     ...     ...        ...       ...    ...\n",
      "6933 2024-09-23  2.3100  2.3200  2.2900  2.3100   2.310000  14551500   abev\n",
      "6934 2024-09-24  2.3600  2.3700  2.3200  2.3300   2.330000  28081200   abev\n",
      "6935 2024-09-25  2.3600  2.3800  2.3100  2.3300   2.330000  28728100   abev\n",
      "6936 2024-09-26  2.3600  2.3700  2.3500  2.3600   2.360000  10628600   abev\n",
      "6937 2024-09-27  2.3600  2.4100  2.3600  2.4000   2.400000  58602700   abev\n",
      "\n",
      "[6938 rows x 8 columns]\n",
      "As seguintes ações não puderam ser encontradas ou estão deslistadas no Yahoo Finance:\n",
      "AATA\n",
      "fim\n"
     ]
    }
   ],
   "source": [
    "import yfinance as yf\n",
    "import pandas as pd\n",
    "\n",
    "def download_historical_data(ticker, start_date, end_date):\n",
    "    try:\n",
    "        data = yf.download(ticker, start=start_date, end=end_date)\n",
    "        return data\n",
    "    except Exception as e:\n",
    "        print(f\"Ocorreu um erro ao baixar os dados para {ticker}: {e}\")\n",
    "        return None\n",
    "\n",
    "if __name__ == \"__main__\":\n",
    "    ticker_symbols = []\n",
    "    print(\"Digite os códigos das ações, um por linha. Digite 'fim' (sem aspas) em uma linha separada para encerrar a lista.\")\n",
    "    ticker_symbol = input().strip()\n",
    "\n",
    "    while ticker_symbol.lower() != \"fim\":\n",
    "        ticker_symbols.append(ticker_symbol)\n",
    "        ticker_symbol = input().strip()\n",
    "\n",
    "    start_date = \"1800-01-01\"\n",
    "    end_date = \"2050-01-01\"\n",
    "\n",
    "    failed_downloads = []\n",
    "    all_data = pd.DataFrame()\n",
    "\n",
    "    for ticker_symbol in ticker_symbols:\n",
    "        historical_data = download_historical_data(ticker_symbol, start_date, end_date)\n",
    "\n",
    "        if historical_data is not None and not historical_data.empty:\n",
    "            historical_data.reset_index(inplace=True)\n",
    "            historical_data['Ticker'] = ticker_symbol  # Adicionar uma coluna para identificar o ticker no DataFrame\n",
    "            all_data = pd.concat([all_data, historical_data])  # Concatenar os dados no DataFrame final\n",
    "        else:\n",
    "            failed_downloads.append(ticker_symbol)\n",
    "\n",
    "    # Exibir o DataFrame final com todos os tickers\n",
    "    print(all_data)\n",
    "\n",
    "    if failed_downloads:\n",
    "        print(\"As seguintes ações não puderam ser encontradas ou estão deslistadas no Yahoo Finance:\")\n",
    "        for ticker_symbol in failed_downloads:\n",
    "            print(ticker_symbol)\n",
    "\n",
    "    print(\"fim\")\n"
   ]
  },
  {
   "cell_type": "markdown",
   "metadata": {},
   "source": [
    "##### Aqui não salva no computador, para trabalhar somente em python."
   ]
  },
  {
   "cell_type": "code",
   "execution_count": 19,
   "metadata": {},
   "outputs": [
    {
     "name": "stdout",
     "output_type": "stream",
     "text": [
      "Digite os códigos das ações, um por linha. Digite 'fim' (sem aspas) em uma linha separada para encerrar a lista.\n",
      "Baixando dados para: SANB11.SA\n"
     ]
    },
    {
     "name": "stderr",
     "output_type": "stream",
     "text": [
      "[*********************100%***********************]  1 of 1 completed"
     ]
    },
    {
     "name": "stdout",
     "output_type": "stream",
     "text": [
      "Baixando dados para: abev\n"
     ]
    },
    {
     "name": "stderr",
     "output_type": "stream",
     "text": [
      "\n",
      "[*********************100%***********************]  1 of 1 completed"
     ]
    },
    {
     "name": "stdout",
     "output_type": "stream",
     "text": [
      "Dados baixados:\n",
      "           Date       Open       High        Low      Close  Adj Close  \\\n",
      "0    2009-10-07  22.561249  22.695656  21.716402  21.716402   9.030400   \n",
      "1    2009-10-08  21.793205  22.234831  21.121168  21.745203   9.042378   \n",
      "2    2009-10-09  21.726002  22.081223  21.668400  21.956415   9.130212   \n",
      "3    2009-10-13  21.889212  22.033218  21.495588  21.879610   9.098270   \n",
      "4    2009-10-14  21.975616  22.071621  21.658798  21.735603   9.038388   \n",
      "...         ...        ...        ...        ...        ...        ...   \n",
      "6933 2024-09-23   2.310000   2.320000   2.290000   2.310000   2.310000   \n",
      "6934 2024-09-24   2.360000   2.370000   2.320000   2.330000   2.330000   \n",
      "6935 2024-09-25   2.360000   2.380000   2.310000   2.330000   2.330000   \n",
      "6936 2024-09-26   2.360000   2.370000   2.350000   2.360000   2.360000   \n",
      "6937 2024-09-27   2.360000   2.410000   2.360000   2.400000   2.400000   \n",
      "\n",
      "        Volume     Ticker  \n",
      "0     87207046  SANB11.SA  \n",
      "1     30902039  SANB11.SA  \n",
      "2      6485370  SANB11.SA  \n",
      "3      7335010  SANB11.SA  \n",
      "4      7844461  SANB11.SA  \n",
      "...        ...        ...  \n",
      "6933  14551500       abev  \n",
      "6934  28081200       abev  \n",
      "6935  28728100       abev  \n",
      "6936  10628600       abev  \n",
      "6937  58602700       abev  \n",
      "\n",
      "[10657 rows x 8 columns]\n",
      "Fim\n"
     ]
    },
    {
     "name": "stderr",
     "output_type": "stream",
     "text": [
      "\n"
     ]
    }
   ],
   "source": [
    "import yfinance as yf\n",
    "import pandas as pd\n",
    "\n",
    "def download_historical_data(ticker, start_date, end_date):\n",
    "    try:\n",
    "        data = yf.download(ticker, start=start_date, end=end_date)\n",
    "        if data.empty:\n",
    "            print(f\"Nenhum dado encontrado para {ticker}.\")\n",
    "            return None\n",
    "        return data\n",
    "    except Exception as e:\n",
    "        print(f\"Ocorreu um erro ao baixar os dados para {ticker}: {e}\")\n",
    "        return None\n",
    "\n",
    "if __name__ == \"__main__\":\n",
    "    ticker_symbols = []\n",
    "    print(\"Digite os códigos das ações, um por linha. Digite 'fim' (sem aspas) em uma linha separada para encerrar a lista.\")\n",
    "    ticker_symbol = input().strip()\n",
    "\n",
    "    while ticker_symbol.lower() != \"fim\":\n",
    "        ticker_symbols.append(ticker_symbol)\n",
    "        ticker_symbol = input().strip()\n",
    "\n",
    "    start_date = \"1800-01-01\"\n",
    "    end_date = \"2050-01-01\"\n",
    "\n",
    "    failed_downloads = []\n",
    "    all_data = pd.DataFrame()\n",
    "\n",
    "    for ticker_symbol in ticker_symbols:\n",
    "        print(f\"Baixando dados para: {ticker_symbol}\")\n",
    "        historical_data = download_historical_data(ticker_symbol, start_date, end_date)\n",
    "\n",
    "        if historical_data is not None:\n",
    "            historical_data.reset_index(inplace=True)\n",
    "            historical_data['Ticker'] = ticker_symbol  # Adicionar uma coluna para identificar o ticker no DataFrame\n",
    "            all_data = pd.concat([all_data, historical_data])  # Concatenar os dados no DataFrame final\n",
    "        else:\n",
    "            failed_downloads.append(ticker_symbol)\n",
    "\n",
    "    # Exibir o DataFrame final com todos os tickers\n",
    "    print(\"Dados baixados:\")\n",
    "    print(all_data)\n",
    "\n",
    "    if failed_downloads:\n",
    "        print(\"\\nAs seguintes ações não puderam ser encontradas ou estão deslistadas no Yahoo Finance:\")\n",
    "        for ticker_symbol in failed_downloads:\n",
    "            print(ticker_symbol)\n",
    "\n",
    "    print(\"Fim\")\n"
   ]
  },
  {
   "cell_type": "markdown",
   "metadata": {},
   "source": [
    "#### Lista B3 coletada na internet."
   ]
  },
  {
   "cell_type": "code",
   "execution_count": 3,
   "metadata": {},
   "outputs": [
    {
     "data": {
      "text/html": [
       "<div>\n",
       "<style scoped>\n",
       "    .dataframe tbody tr th:only-of-type {\n",
       "        vertical-align: middle;\n",
       "    }\n",
       "\n",
       "    .dataframe tbody tr th {\n",
       "        vertical-align: top;\n",
       "    }\n",
       "\n",
       "    .dataframe thead th {\n",
       "        text-align: right;\n",
       "    }\n",
       "</style>\n",
       "<table border=\"1\" class=\"dataframe\">\n",
       "  <thead>\n",
       "    <tr style=\"text-align: right;\">\n",
       "      <th></th>\n",
       "      <th>Yahoo Stock Tickers</th>\n",
       "      <th>Unnamed: 1</th>\n",
       "      <th>Unnamed: 2</th>\n",
       "      <th>Unnamed: 3</th>\n",
       "      <th>Unnamed: 4</th>\n",
       "      <th>Unnamed: 5</th>\n",
       "      <th>Unnamed: 6</th>\n",
       "      <th>Unnamed: 7</th>\n",
       "    </tr>\n",
       "  </thead>\n",
       "  <tbody>\n",
       "    <tr>\n",
       "      <th>2</th>\n",
       "      <td>Ticker</td>\n",
       "      <td>Name</td>\n",
       "      <td>Exchange</td>\n",
       "      <td>Category Name</td>\n",
       "      <td>Country</td>\n",
       "      <td>NaN</td>\n",
       "      <td>NaN</td>\n",
       "      <td>NaN</td>\n",
       "    </tr>\n",
       "    <tr>\n",
       "      <th>3</th>\n",
       "      <td>OEDV</td>\n",
       "      <td>Osage Exploration and Development, Inc.</td>\n",
       "      <td>PNK</td>\n",
       "      <td>NaN</td>\n",
       "      <td>USA</td>\n",
       "      <td>NaN</td>\n",
       "      <td>NaN</td>\n",
       "      <td>Samir Khan</td>\n",
       "    </tr>\n",
       "    <tr>\n",
       "      <th>4</th>\n",
       "      <td>AAPL</td>\n",
       "      <td>Apple Inc.</td>\n",
       "      <td>NMS</td>\n",
       "      <td>Electronic Equipment</td>\n",
       "      <td>USA</td>\n",
       "      <td>NaN</td>\n",
       "      <td>NaN</td>\n",
       "      <td>simulationconsultant@gmail.com</td>\n",
       "    </tr>\n",
       "    <tr>\n",
       "      <th>5</th>\n",
       "      <td>BAC</td>\n",
       "      <td>Bank of America Corporation</td>\n",
       "      <td>NYQ</td>\n",
       "      <td>Money Center Banks</td>\n",
       "      <td>USA</td>\n",
       "      <td>NaN</td>\n",
       "      <td>NaN</td>\n",
       "      <td>NaN</td>\n",
       "    </tr>\n",
       "    <tr>\n",
       "      <th>6</th>\n",
       "      <td>AMZN</td>\n",
       "      <td>Amazon.com, Inc.</td>\n",
       "      <td>NMS</td>\n",
       "      <td>Catalog &amp; Mail Order Houses</td>\n",
       "      <td>USA</td>\n",
       "      <td>NaN</td>\n",
       "      <td>NaN</td>\n",
       "      <td>This ticker symbol list was downloaded from</td>\n",
       "    </tr>\n",
       "  </tbody>\n",
       "</table>\n",
       "</div>"
      ],
      "text/plain": [
       "  Yahoo Stock Tickers                               Unnamed: 1 Unnamed: 2  \\\n",
       "2              Ticker                                     Name   Exchange   \n",
       "3                OEDV  Osage Exploration and Development, Inc.        PNK   \n",
       "4                AAPL                               Apple Inc.        NMS   \n",
       "5                 BAC              Bank of America Corporation        NYQ   \n",
       "6                AMZN                         Amazon.com, Inc.        NMS   \n",
       "\n",
       "                    Unnamed: 3 Unnamed: 4  Unnamed: 5  Unnamed: 6  \\\n",
       "2                Category Name    Country         NaN         NaN   \n",
       "3                          NaN        USA         NaN         NaN   \n",
       "4         Electronic Equipment        USA         NaN         NaN   \n",
       "5           Money Center Banks        USA         NaN         NaN   \n",
       "6  Catalog & Mail Order Houses        USA         NaN         NaN   \n",
       "\n",
       "                                    Unnamed: 7  \n",
       "2                                          NaN  \n",
       "3                                   Samir Khan  \n",
       "4               simulationconsultant@gmail.com  \n",
       "5                                          NaN  \n",
       "6  This ticker symbol list was downloaded from  "
      ]
     },
     "execution_count": 3,
     "metadata": {},
     "output_type": "execute_result"
    }
   ],
   "source": [
    "ListaB3 = pd.read_excel('C:/Users/Samsung/Documents/GitHub-Datas/TCC_Machine_Learning/Yahoo Ticker Symbols.xlsx', sheet_name= \"Stock\")\n",
    "ListaB3 = ListaB3.iloc[2:]\n",
    "ListaB3.head()"
   ]
  },
  {
   "cell_type": "code",
   "execution_count": 82,
   "metadata": {},
   "outputs": [
    {
     "data": {
      "text/html": [
       "<div>\n",
       "<style scoped>\n",
       "    .dataframe tbody tr th:only-of-type {\n",
       "        vertical-align: middle;\n",
       "    }\n",
       "\n",
       "    .dataframe tbody tr th {\n",
       "        vertical-align: top;\n",
       "    }\n",
       "\n",
       "    .dataframe thead th {\n",
       "        text-align: right;\n",
       "    }\n",
       "</style>\n",
       "<table border=\"1\" class=\"dataframe\">\n",
       "  <thead>\n",
       "    <tr style=\"text-align: right;\">\n",
       "      <th></th>\n",
       "      <th>Ticker</th>\n",
       "      <th>Name</th>\n",
       "      <th>Exchange</th>\n",
       "      <th>Category Name</th>\n",
       "      <th>Country</th>\n",
       "    </tr>\n",
       "  </thead>\n",
       "  <tbody>\n",
       "    <tr>\n",
       "      <th>0</th>\n",
       "      <td>OEDV</td>\n",
       "      <td>Osage Exploration and Development, Inc.</td>\n",
       "      <td>PNK</td>\n",
       "      <td>NaN</td>\n",
       "      <td>USA</td>\n",
       "    </tr>\n",
       "    <tr>\n",
       "      <th>1</th>\n",
       "      <td>AAPL</td>\n",
       "      <td>Apple Inc.</td>\n",
       "      <td>NMS</td>\n",
       "      <td>Electronic Equipment</td>\n",
       "      <td>USA</td>\n",
       "    </tr>\n",
       "    <tr>\n",
       "      <th>2</th>\n",
       "      <td>BAC</td>\n",
       "      <td>Bank of America Corporation</td>\n",
       "      <td>NYQ</td>\n",
       "      <td>Money Center Banks</td>\n",
       "      <td>USA</td>\n",
       "    </tr>\n",
       "    <tr>\n",
       "      <th>3</th>\n",
       "      <td>AMZN</td>\n",
       "      <td>Amazon.com, Inc.</td>\n",
       "      <td>NMS</td>\n",
       "      <td>Catalog &amp; Mail Order Houses</td>\n",
       "      <td>USA</td>\n",
       "    </tr>\n",
       "    <tr>\n",
       "      <th>4</th>\n",
       "      <td>T</td>\n",
       "      <td>AT&amp;T Inc.</td>\n",
       "      <td>NYQ</td>\n",
       "      <td>Telecom Services - Domestic</td>\n",
       "      <td>USA</td>\n",
       "    </tr>\n",
       "  </tbody>\n",
       "</table>\n",
       "</div>"
      ],
      "text/plain": [
       "0 Ticker                                     Name Exchange  \\\n",
       "0   OEDV  Osage Exploration and Development, Inc.      PNK   \n",
       "1   AAPL                               Apple Inc.      NMS   \n",
       "2    BAC              Bank of America Corporation      NYQ   \n",
       "3   AMZN                         Amazon.com, Inc.      NMS   \n",
       "4      T                                AT&T Inc.      NYQ   \n",
       "\n",
       "0                Category Name Country  \n",
       "0                          NaN     USA  \n",
       "1         Electronic Equipment     USA  \n",
       "2           Money Center Banks     USA  \n",
       "3  Catalog & Mail Order Houses     USA  \n",
       "4  Telecom Services - Domestic     USA  "
      ]
     },
     "execution_count": 82,
     "metadata": {},
     "output_type": "execute_result"
    }
   ],
   "source": [
    "ListaB3 = ListaB3.reset_index(drop=True)\n",
    "ListaB3.columns = ListaB3.iloc[0]  \n",
    "ListaB3 = ListaB3.drop(index=0).reset_index(drop=True)\n",
    "ListaB3 = ListaB3[['Ticker', 'Name', 'Exchange', 'Category Name', 'Country']]\n",
    "ListaB3.head()"
   ]
  },
  {
   "cell_type": "code",
   "execution_count": 83,
   "metadata": {},
   "outputs": [
    {
     "data": {
      "text/html": [
       "<div>\n",
       "<style scoped>\n",
       "    .dataframe tbody tr th:only-of-type {\n",
       "        vertical-align: middle;\n",
       "    }\n",
       "\n",
       "    .dataframe tbody tr th {\n",
       "        vertical-align: top;\n",
       "    }\n",
       "\n",
       "    .dataframe thead th {\n",
       "        text-align: right;\n",
       "    }\n",
       "</style>\n",
       "<table border=\"1\" class=\"dataframe\">\n",
       "  <thead>\n",
       "    <tr style=\"text-align: right;\">\n",
       "      <th></th>\n",
       "      <th>Ticker</th>\n",
       "      <th>Name</th>\n",
       "      <th>Exchange</th>\n",
       "      <th>Category Name</th>\n",
       "      <th>Country</th>\n",
       "    </tr>\n",
       "  </thead>\n",
       "  <tbody>\n",
       "    <tr>\n",
       "      <th>0</th>\n",
       "      <td>LAME4.SA</td>\n",
       "      <td>Lojas Americanas S.A.</td>\n",
       "      <td>SAO</td>\n",
       "      <td>Department Stores</td>\n",
       "      <td>Brazil</td>\n",
       "    </tr>\n",
       "    <tr>\n",
       "      <th>1</th>\n",
       "      <td>ABEV3.SA</td>\n",
       "      <td>Ambev S.A.</td>\n",
       "      <td>SAO</td>\n",
       "      <td>Beverages - Brewers</td>\n",
       "      <td>Brazil</td>\n",
       "    </tr>\n",
       "    <tr>\n",
       "      <th>2</th>\n",
       "      <td>VALE5.SA</td>\n",
       "      <td>Vale S.A.</td>\n",
       "      <td>SAO</td>\n",
       "      <td>Industrial Metals &amp; Minerals</td>\n",
       "      <td>Brazil</td>\n",
       "    </tr>\n",
       "    <tr>\n",
       "      <th>3</th>\n",
       "      <td>SBSP3.SA</td>\n",
       "      <td>Companhia de Saneamento BÃ¡sico do Estado de S...</td>\n",
       "      <td>SAO</td>\n",
       "      <td>Water Utilities</td>\n",
       "      <td>Brazil</td>\n",
       "    </tr>\n",
       "    <tr>\n",
       "      <th>4</th>\n",
       "      <td>VALE3.SA</td>\n",
       "      <td>Vale S.A.</td>\n",
       "      <td>SAO</td>\n",
       "      <td>Industrial Metals &amp; Minerals</td>\n",
       "      <td>Brazil</td>\n",
       "    </tr>\n",
       "  </tbody>\n",
       "</table>\n",
       "</div>"
      ],
      "text/plain": [
       "0    Ticker                                               Name Exchange  \\\n",
       "0  LAME4.SA                              Lojas Americanas S.A.      SAO   \n",
       "1  ABEV3.SA                                         Ambev S.A.      SAO   \n",
       "2  VALE5.SA                                          Vale S.A.      SAO   \n",
       "3  SBSP3.SA  Companhia de Saneamento BÃ¡sico do Estado de S...      SAO   \n",
       "4  VALE3.SA                                          Vale S.A.      SAO   \n",
       "\n",
       "0                 Category Name Country  \n",
       "0             Department Stores  Brazil  \n",
       "1           Beverages - Brewers  Brazil  \n",
       "2  Industrial Metals & Minerals  Brazil  \n",
       "3               Water Utilities  Brazil  \n",
       "4  Industrial Metals & Minerals  Brazil  "
      ]
     },
     "execution_count": 83,
     "metadata": {},
     "output_type": "execute_result"
    }
   ],
   "source": [
    "ListaB3 = ListaB3[ListaB3['Country'] == 'Brazil'].reset_index(drop=True)\n",
    "ListaB3.head()\n"
   ]
  },
  {
   "cell_type": "code",
   "execution_count": 84,
   "metadata": {},
   "outputs": [],
   "source": [
    "ListaB3.to_excel(\"C:/Users/Samsung/Documents/GitHub-Datas/TCC_Machine_Learning/ListaB3.xlsx\", index=False)"
   ]
  },
  {
   "cell_type": "markdown",
   "metadata": {},
   "source": [
    "#### Definir a lista somente os 5 primeiros, para ir testando e fazendo sem pesar muito, depois faço todo o processo com a lista completa."
   ]
  },
  {
   "cell_type": "code",
   "execution_count": 3,
   "metadata": {},
   "outputs": [
    {
     "data": {
      "text/html": [
       "<div>\n",
       "<style scoped>\n",
       "    .dataframe tbody tr th:only-of-type {\n",
       "        vertical-align: middle;\n",
       "    }\n",
       "\n",
       "    .dataframe tbody tr th {\n",
       "        vertical-align: top;\n",
       "    }\n",
       "\n",
       "    .dataframe thead th {\n",
       "        text-align: right;\n",
       "    }\n",
       "</style>\n",
       "<table border=\"1\" class=\"dataframe\">\n",
       "  <thead>\n",
       "    <tr style=\"text-align: right;\">\n",
       "      <th></th>\n",
       "      <th>Ticker</th>\n",
       "      <th>Name</th>\n",
       "      <th>Exchange</th>\n",
       "      <th>Category Name</th>\n",
       "      <th>Country</th>\n",
       "    </tr>\n",
       "  </thead>\n",
       "  <tbody>\n",
       "    <tr>\n",
       "      <th>0</th>\n",
       "      <td>LAME4.SA</td>\n",
       "      <td>Lojas Americanas S.A.</td>\n",
       "      <td>SAO</td>\n",
       "      <td>Department Stores</td>\n",
       "      <td>Brazil</td>\n",
       "    </tr>\n",
       "    <tr>\n",
       "      <th>1</th>\n",
       "      <td>ABEV3.SA</td>\n",
       "      <td>Ambev S.A.</td>\n",
       "      <td>SAO</td>\n",
       "      <td>Beverages - Brewers</td>\n",
       "      <td>Brazil</td>\n",
       "    </tr>\n",
       "    <tr>\n",
       "      <th>2</th>\n",
       "      <td>VALE5.SA</td>\n",
       "      <td>Vale S.A.</td>\n",
       "      <td>SAO</td>\n",
       "      <td>Industrial Metals &amp; Minerals</td>\n",
       "      <td>Brazil</td>\n",
       "    </tr>\n",
       "    <tr>\n",
       "      <th>3</th>\n",
       "      <td>SBSP3.SA</td>\n",
       "      <td>Companhia de Saneamento BÃ¡sico do Estado de S...</td>\n",
       "      <td>SAO</td>\n",
       "      <td>Water Utilities</td>\n",
       "      <td>Brazil</td>\n",
       "    </tr>\n",
       "    <tr>\n",
       "      <th>4</th>\n",
       "      <td>VALE3.SA</td>\n",
       "      <td>Vale S.A.</td>\n",
       "      <td>SAO</td>\n",
       "      <td>Industrial Metals &amp; Minerals</td>\n",
       "      <td>Brazil</td>\n",
       "    </tr>\n",
       "  </tbody>\n",
       "</table>\n",
       "</div>"
      ],
      "text/plain": [
       "     Ticker                                               Name Exchange  \\\n",
       "0  LAME4.SA                              Lojas Americanas S.A.      SAO   \n",
       "1  ABEV3.SA                                         Ambev S.A.      SAO   \n",
       "2  VALE5.SA                                          Vale S.A.      SAO   \n",
       "3  SBSP3.SA  Companhia de Saneamento BÃ¡sico do Estado de S...      SAO   \n",
       "4  VALE3.SA                                          Vale S.A.      SAO   \n",
       "\n",
       "                  Category Name Country  \n",
       "0             Department Stores  Brazil  \n",
       "1           Beverages - Brewers  Brazil  \n",
       "2  Industrial Metals & Minerals  Brazil  \n",
       "3               Water Utilities  Brazil  \n",
       "4  Industrial Metals & Minerals  Brazil  "
      ]
     },
     "execution_count": 3,
     "metadata": {},
     "output_type": "execute_result"
    }
   ],
   "source": [
    "ListaB3 = pd.read_excel('C:/Users/Samsung/Documents/GitHub-Datas/TCC_Machine_Learning/ListaB3.xlsx', sheet_name= \"Sheet1\")\n",
    "ListaB3.head()"
   ]
  },
  {
   "cell_type": "code",
   "execution_count": 85,
   "metadata": {},
   "outputs": [
    {
     "data": {
      "text/html": [
       "<div>\n",
       "<style scoped>\n",
       "    .dataframe tbody tr th:only-of-type {\n",
       "        vertical-align: middle;\n",
       "    }\n",
       "\n",
       "    .dataframe tbody tr th {\n",
       "        vertical-align: top;\n",
       "    }\n",
       "\n",
       "    .dataframe thead th {\n",
       "        text-align: right;\n",
       "    }\n",
       "</style>\n",
       "<table border=\"1\" class=\"dataframe\">\n",
       "  <thead>\n",
       "    <tr style=\"text-align: right;\">\n",
       "      <th></th>\n",
       "      <th>Ticker</th>\n",
       "      <th>Name</th>\n",
       "      <th>Exchange</th>\n",
       "      <th>Category Name</th>\n",
       "      <th>Country</th>\n",
       "    </tr>\n",
       "  </thead>\n",
       "  <tbody>\n",
       "    <tr>\n",
       "      <th>0</th>\n",
       "      <td>LAME4.SA</td>\n",
       "      <td>Lojas Americanas S.A.</td>\n",
       "      <td>SAO</td>\n",
       "      <td>Department Stores</td>\n",
       "      <td>Brazil</td>\n",
       "    </tr>\n",
       "    <tr>\n",
       "      <th>1</th>\n",
       "      <td>ABEV3.SA</td>\n",
       "      <td>Ambev S.A.</td>\n",
       "      <td>SAO</td>\n",
       "      <td>Beverages - Brewers</td>\n",
       "      <td>Brazil</td>\n",
       "    </tr>\n",
       "    <tr>\n",
       "      <th>2</th>\n",
       "      <td>VALE5.SA</td>\n",
       "      <td>Vale S.A.</td>\n",
       "      <td>SAO</td>\n",
       "      <td>Industrial Metals &amp; Minerals</td>\n",
       "      <td>Brazil</td>\n",
       "    </tr>\n",
       "    <tr>\n",
       "      <th>3</th>\n",
       "      <td>SBSP3.SA</td>\n",
       "      <td>Companhia de Saneamento BÃ¡sico do Estado de S...</td>\n",
       "      <td>SAO</td>\n",
       "      <td>Water Utilities</td>\n",
       "      <td>Brazil</td>\n",
       "    </tr>\n",
       "    <tr>\n",
       "      <th>4</th>\n",
       "      <td>VALE3.SA</td>\n",
       "      <td>Vale S.A.</td>\n",
       "      <td>SAO</td>\n",
       "      <td>Industrial Metals &amp; Minerals</td>\n",
       "      <td>Brazil</td>\n",
       "    </tr>\n",
       "  </tbody>\n",
       "</table>\n",
       "</div>"
      ],
      "text/plain": [
       "0    Ticker                                               Name Exchange  \\\n",
       "0  LAME4.SA                              Lojas Americanas S.A.      SAO   \n",
       "1  ABEV3.SA                                         Ambev S.A.      SAO   \n",
       "2  VALE5.SA                                          Vale S.A.      SAO   \n",
       "3  SBSP3.SA  Companhia de Saneamento BÃ¡sico do Estado de S...      SAO   \n",
       "4  VALE3.SA                                          Vale S.A.      SAO   \n",
       "\n",
       "0                 Category Name Country  \n",
       "0             Department Stores  Brazil  \n",
       "1           Beverages - Brewers  Brazil  \n",
       "2  Industrial Metals & Minerals  Brazil  \n",
       "3               Water Utilities  Brazil  \n",
       "4  Industrial Metals & Minerals  Brazil  "
      ]
     },
     "execution_count": 85,
     "metadata": {},
     "output_type": "execute_result"
    }
   ],
   "source": [
    "ListaB3_5 = ListaB3.iloc[:5,:]\n",
    "ListaB3_5.head(10)"
   ]
  },
  {
   "cell_type": "markdown",
   "metadata": {},
   "source": [
    "##### Definir 5 ativos de minha preferência."
   ]
  },
  {
   "cell_type": "code",
   "execution_count": 4,
   "metadata": {},
   "outputs": [],
   "source": [
    "ativos_selecionados = ['PETR4.SA', 'VALE3.SA', 'ITUB4.SA', 'ABEV3.SA', 'MGLU3.SA']\n",
    "ListaB3_5 = ListaB3[ListaB3['Ticker'].isin(ativos_selecionados)]"
   ]
  },
  {
   "cell_type": "markdown",
   "metadata": {},
   "source": [
    "#### Baixar a partir da lista."
   ]
  },
  {
   "cell_type": "code",
   "execution_count": 5,
   "metadata": {},
   "outputs": [
    {
     "name": "stdout",
     "output_type": "stream",
     "text": [
      "\n",
      "Todos os ativos foram baixados com sucesso.\n",
      "\n",
      "Fim do processo.\n"
     ]
    }
   ],
   "source": [
    "import yfinance as yf\n",
    "import pandas as pd\n",
    "\n",
    "def download_historical_data(ticker, start_date, end_date):\n",
    "    try:\n",
    "        data = yf.download(ticker, start=start_date, end=end_date, progress=False)  # Desativa o progresso\n",
    "        if data.empty:\n",
    "            return None\n",
    "        return data\n",
    "    except Exception:\n",
    "        return None\n",
    "\n",
    "if __name__ == \"__main__\":\n",
    "    # Lista de tickers (substitua pela sua lista real)\n",
    "    ticker_symbols = ListaB3_5['Ticker'].tolist()  # Substitua 'ListaB3_5' pela sua DataFrame de tickers\n",
    "\n",
    "    start_date = \"1800-01-01\"\n",
    "    end_date = \"2050-01-01\"\n",
    "\n",
    "    failed_downloads = []  # Lista de tickers com falha\n",
    "    all_data = pd.DataFrame()  # DataFrame para armazenar todos os dados baixados\n",
    "\n",
    "    for ticker_symbol in ticker_symbols:\n",
    "        historical_data = download_historical_data(ticker_symbol, start_date, end_date)\n",
    "        if historical_data is not None:\n",
    "            historical_data.reset_index(inplace=True)\n",
    "            historical_data['Ticker'] = ticker_symbol  # Adiciona a coluna do ticker\n",
    "            all_data = pd.concat([all_data, historical_data], ignore_index=True)\n",
    "        else:\n",
    "            failed_downloads.append(ticker_symbol)\n",
    "\n",
    "    # Exibe o relatório final\n",
    "    if failed_downloads:\n",
    "        print(\"\\nOs seguintes ativos não puderam ser baixados:\")\n",
    "        for ticker_symbol in failed_downloads:\n",
    "            print(ticker_symbol)\n",
    "    else:\n",
    "        print(\"\\nTodos os ativos foram baixados com sucesso.\")\n",
    "\n",
    "    print(\"\\nFim do processo.\")\n"
   ]
  },
  {
   "cell_type": "code",
   "execution_count": null,
   "metadata": {},
   "outputs": [],
   "source": [
    "import yfinance as yf\n",
    "import pandas as pd\n",
    "\n",
    "def download_historical_data(ticker, start_date, end_date):\n",
    "    try:\n",
    "        data = yf.download(ticker, start=start_date, end=end_date)\n",
    "        if data.empty:\n",
    "            print(f\"Nenhum dado encontrado para {ticker}.\")\n",
    "            return None\n",
    "        return data\n",
    "    except Exception as e:\n",
    "        print(f\"Ocorreu um erro ao baixar os dados para {ticker}: {e}\")\n",
    "        return None\n",
    "\n",
    "if __name__ == \"__main__\":\n",
    "    ticker_symbols = ListaB3['Ticker'].tolist()  # Pega todos os tickers da coluna \"Ticker\"\n",
    "\n",
    "    start_date = \"1800-01-01\"\n",
    "    end_date = \"2050-01-01\"\n",
    "\n",
    "    failed_downloads = []\n",
    "    all_data = pd.DataFrame()\n",
    "\n",
    "    for ticker_symbol in ticker_symbols:\n",
    "        print(f\"Baixando dados para: {ticker_symbol}\")\n",
    "        historical_data = download_historical_data(ticker_symbol, start_date, end_date)\n",
    "\n",
    "        if historical_data is not None:\n",
    "            historical_data.reset_index(inplace=True)\n",
    "            historical_data['Ticker'] = ticker_symbol  # Adicionar uma coluna para identificar o ticker no DataFrame\n",
    "            all_data = pd.concat([all_data, historical_data])  # Concatenar os dados no DataFrame final\n",
    "        else:\n",
    "            failed_downloads.append(ticker_symbol)\n",
    "\n",
    "    # Exibir o DataFrame final com todos os tickers\n",
    "    print(\"Dados baixados:\")\n",
    "\n",
    "    if failed_downloads:\n",
    "        print(\"\\nAs seguintes ações não puderam ser encontradas ou estão deslistadas no Yahoo Finance:\")\n",
    "        for ticker_symbol in failed_downloads:\n",
    "            print(ticker_symbol)\n",
    "\n",
    "    print(\"Fim\")\n"
   ]
  },
  {
   "cell_type": "code",
   "execution_count": 11,
   "metadata": {},
   "outputs": [
    {
     "name": "stdout",
     "output_type": "stream",
     "text": [
      "<class 'pandas.core.frame.DataFrame'>\n",
      "RangeIndex: 28215 entries, 0 to 28214\n",
      "Data columns (total 8 columns):\n",
      " #   Column     Non-Null Count  Dtype         \n",
      "---  ------     --------------  -----         \n",
      " 0   Date       28215 non-null  datetime64[ns]\n",
      " 1   Open       28215 non-null  float64       \n",
      " 2   High       28215 non-null  float64       \n",
      " 3   Low        28215 non-null  float64       \n",
      " 4   Close      28215 non-null  float64       \n",
      " 5   Adj Close  28215 non-null  float64       \n",
      " 6   Volume     28215 non-null  int64         \n",
      " 7   Ticker     28215 non-null  object        \n",
      "dtypes: datetime64[ns](1), float64(5), int64(1), object(1)\n",
      "memory usage: 1.7+ MB\n"
     ]
    }
   ],
   "source": [
    "all_data.info()"
   ]
  },
  {
   "cell_type": "code",
   "execution_count": 12,
   "metadata": {},
   "outputs": [
    {
     "data": {
      "text/html": [
       "<div>\n",
       "<style scoped>\n",
       "    .dataframe tbody tr th:only-of-type {\n",
       "        vertical-align: middle;\n",
       "    }\n",
       "\n",
       "    .dataframe tbody tr th {\n",
       "        vertical-align: top;\n",
       "    }\n",
       "\n",
       "    .dataframe thead th {\n",
       "        text-align: right;\n",
       "    }\n",
       "</style>\n",
       "<table border=\"1\" class=\"dataframe\">\n",
       "  <thead>\n",
       "    <tr style=\"text-align: right;\">\n",
       "      <th></th>\n",
       "      <th>Date</th>\n",
       "      <th>Open</th>\n",
       "      <th>High</th>\n",
       "      <th>Low</th>\n",
       "      <th>Close</th>\n",
       "      <th>Adj Close</th>\n",
       "      <th>Volume</th>\n",
       "      <th>Ticker</th>\n",
       "    </tr>\n",
       "  </thead>\n",
       "  <tbody>\n",
       "    <tr>\n",
       "      <th>0</th>\n",
       "      <td>2000-01-05</td>\n",
       "      <td>0.520882</td>\n",
       "      <td>0.520882</td>\n",
       "      <td>0.520882</td>\n",
       "      <td>0.520882</td>\n",
       "      <td>0.293717</td>\n",
       "      <td>985</td>\n",
       "      <td>ABEV3.SA</td>\n",
       "    </tr>\n",
       "    <tr>\n",
       "      <th>1</th>\n",
       "      <td>2000-01-06</td>\n",
       "      <td>0.494478</td>\n",
       "      <td>0.494478</td>\n",
       "      <td>0.494478</td>\n",
       "      <td>0.494478</td>\n",
       "      <td>0.278829</td>\n",
       "      <td>227</td>\n",
       "      <td>ABEV3.SA</td>\n",
       "    </tr>\n",
       "    <tr>\n",
       "      <th>2</th>\n",
       "      <td>2000-01-07</td>\n",
       "      <td>0.494478</td>\n",
       "      <td>0.494478</td>\n",
       "      <td>0.494478</td>\n",
       "      <td>0.494478</td>\n",
       "      <td>0.278829</td>\n",
       "      <td>151</td>\n",
       "      <td>ABEV3.SA</td>\n",
       "    </tr>\n",
       "    <tr>\n",
       "      <th>3</th>\n",
       "      <td>2000-01-10</td>\n",
       "      <td>0.494478</td>\n",
       "      <td>0.494478</td>\n",
       "      <td>0.494478</td>\n",
       "      <td>0.494478</td>\n",
       "      <td>0.278829</td>\n",
       "      <td>1516</td>\n",
       "      <td>ABEV3.SA</td>\n",
       "    </tr>\n",
       "    <tr>\n",
       "      <th>4</th>\n",
       "      <td>2000-01-11</td>\n",
       "      <td>0.494478</td>\n",
       "      <td>0.494478</td>\n",
       "      <td>0.494478</td>\n",
       "      <td>0.494478</td>\n",
       "      <td>0.278829</td>\n",
       "      <td>3791</td>\n",
       "      <td>ABEV3.SA</td>\n",
       "    </tr>\n",
       "  </tbody>\n",
       "</table>\n",
       "</div>"
      ],
      "text/plain": [
       "        Date      Open      High       Low     Close  Adj Close  Volume  \\\n",
       "0 2000-01-05  0.520882  0.520882  0.520882  0.520882   0.293717     985   \n",
       "1 2000-01-06  0.494478  0.494478  0.494478  0.494478   0.278829     227   \n",
       "2 2000-01-07  0.494478  0.494478  0.494478  0.494478   0.278829     151   \n",
       "3 2000-01-10  0.494478  0.494478  0.494478  0.494478   0.278829    1516   \n",
       "4 2000-01-11  0.494478  0.494478  0.494478  0.494478   0.278829    3791   \n",
       "\n",
       "     Ticker  \n",
       "0  ABEV3.SA  \n",
       "1  ABEV3.SA  \n",
       "2  ABEV3.SA  \n",
       "3  ABEV3.SA  \n",
       "4  ABEV3.SA  "
      ]
     },
     "execution_count": 12,
     "metadata": {},
     "output_type": "execute_result"
    }
   ],
   "source": [
    "all_data.head()"
   ]
  },
  {
   "cell_type": "markdown",
   "metadata": {},
   "source": [
    "##### Caso queira selecionar um ticker específico nesse caso: Companhia de Saneamento Básico do Estado de São Paulo - SABESP (SBSP3)"
   ]
  },
  {
   "cell_type": "code",
   "execution_count": 7,
   "metadata": {},
   "outputs": [
    {
     "data": {
      "text/html": [
       "<div>\n",
       "<style scoped>\n",
       "    .dataframe tbody tr th:only-of-type {\n",
       "        vertical-align: middle;\n",
       "    }\n",
       "\n",
       "    .dataframe tbody tr th {\n",
       "        vertical-align: top;\n",
       "    }\n",
       "\n",
       "    .dataframe thead th {\n",
       "        text-align: right;\n",
       "    }\n",
       "</style>\n",
       "<table border=\"1\" class=\"dataframe\">\n",
       "  <thead>\n",
       "    <tr style=\"text-align: right;\">\n",
       "      <th></th>\n",
       "      <th>Date</th>\n",
       "      <th>Open</th>\n",
       "      <th>High</th>\n",
       "      <th>Low</th>\n",
       "      <th>Close</th>\n",
       "      <th>Adj Close</th>\n",
       "      <th>Volume</th>\n",
       "      <th>Ticker</th>\n",
       "    </tr>\n",
       "  </thead>\n",
       "  <tbody>\n",
       "    <tr>\n",
       "      <th>0</th>\n",
       "      <td>2000-01-03</td>\n",
       "      <td>7.888750</td>\n",
       "      <td>7.962916</td>\n",
       "      <td>7.777916</td>\n",
       "      <td>7.815000</td>\n",
       "      <td>4.741246</td>\n",
       "      <td>2536</td>\n",
       "      <td>SBSP3.SA</td>\n",
       "    </tr>\n",
       "    <tr>\n",
       "      <th>1</th>\n",
       "      <td>2000-01-04</td>\n",
       "      <td>7.629583</td>\n",
       "      <td>7.629583</td>\n",
       "      <td>7.296250</td>\n",
       "      <td>7.351666</td>\n",
       "      <td>4.460148</td>\n",
       "      <td>2432</td>\n",
       "      <td>SBSP3.SA</td>\n",
       "    </tr>\n",
       "    <tr>\n",
       "      <th>2</th>\n",
       "      <td>2000-01-05</td>\n",
       "      <td>7.259166</td>\n",
       "      <td>7.259166</td>\n",
       "      <td>7.037916</td>\n",
       "      <td>7.147083</td>\n",
       "      <td>4.336029</td>\n",
       "      <td>6675</td>\n",
       "      <td>SBSP3.SA</td>\n",
       "    </tr>\n",
       "    <tr>\n",
       "      <th>3</th>\n",
       "      <td>2000-01-06</td>\n",
       "      <td>7.148333</td>\n",
       "      <td>7.185000</td>\n",
       "      <td>7.000000</td>\n",
       "      <td>7.111250</td>\n",
       "      <td>4.314290</td>\n",
       "      <td>2989</td>\n",
       "      <td>SBSP3.SA</td>\n",
       "    </tr>\n",
       "    <tr>\n",
       "      <th>4</th>\n",
       "      <td>2000-01-07</td>\n",
       "      <td>7.222083</td>\n",
       "      <td>7.222083</td>\n",
       "      <td>7.185000</td>\n",
       "      <td>7.211250</td>\n",
       "      <td>4.374959</td>\n",
       "      <td>2025</td>\n",
       "      <td>SBSP3.SA</td>\n",
       "    </tr>\n",
       "  </tbody>\n",
       "</table>\n",
       "</div>"
      ],
      "text/plain": [
       "        Date      Open      High       Low     Close  Adj Close  Volume  \\\n",
       "0 2000-01-03  7.888750  7.962916  7.777916  7.815000   4.741246    2536   \n",
       "1 2000-01-04  7.629583  7.629583  7.296250  7.351666   4.460148    2432   \n",
       "2 2000-01-05  7.259166  7.259166  7.037916  7.147083   4.336029    6675   \n",
       "3 2000-01-06  7.148333  7.185000  7.000000  7.111250   4.314290    2989   \n",
       "4 2000-01-07  7.222083  7.222083  7.185000  7.211250   4.374959    2025   \n",
       "\n",
       "     Ticker  \n",
       "0  SBSP3.SA  \n",
       "1  SBSP3.SA  \n",
       "2  SBSP3.SA  \n",
       "3  SBSP3.SA  \n",
       "4  SBSP3.SA  "
      ]
     },
     "execution_count": 7,
     "metadata": {},
     "output_type": "execute_result"
    }
   ],
   "source": [
    "SBSP3_SA = all_data[all_data['Ticker'] == 'SBSP3.SA'].reset_index(drop=True)\n",
    "SBSP3_SA.head()"
   ]
  },
  {
   "cell_type": "code",
   "execution_count": 8,
   "metadata": {},
   "outputs": [
    {
     "data": {
      "text/plain": [
       "4134"
      ]
     },
     "execution_count": 8,
     "metadata": {},
     "output_type": "execute_result"
    }
   ],
   "source": [
    "SBSP3_SA['Open'].nunique()"
   ]
  },
  {
   "cell_type": "code",
   "execution_count": 9,
   "metadata": {},
   "outputs": [
    {
     "data": {
      "text/plain": [
       "False"
      ]
     },
     "execution_count": 9,
     "metadata": {},
     "output_type": "execute_result"
    }
   ],
   "source": [
    "SBSP3_SA.isnull().values.any()"
   ]
  },
  {
   "cell_type": "markdown",
   "metadata": {},
   "source": [
    "#### Salvando arquivo com todos tickers."
   ]
  },
  {
   "cell_type": "code",
   "execution_count": 13,
   "metadata": {},
   "outputs": [],
   "source": [
    "# Salvar em CSV\n",
    "all_data.to_csv('C:/Users/Samsung/Documents/GitHub-Datas/TCC_Machine_Learning/Dados_bolsa.csv', index=False)"
   ]
  },
  {
   "cell_type": "code",
   "execution_count": 14,
   "metadata": {},
   "outputs": [],
   "source": [
    "# Salvar em Parquet\n",
    "all_data.to_parquet('C:/Users/Samsung/Documents/GitHub-Datas/TCC_Machine_Learning/Dados_bolsa.parquet', index=False)"
   ]
  },
  {
   "cell_type": "code",
   "execution_count": null,
   "metadata": {},
   "outputs": [],
   "source": [
    "all_data.to_excel(\"C:/Users/Samsung/Documents/GitHub-Datas/TCC_Machine_Learning/Dados_bolsa.xlsx\", index=False)"
   ]
  },
  {
   "cell_type": "code",
   "execution_count": 15,
   "metadata": {},
   "outputs": [
    {
     "data": {
      "text/plain": [
       "5"
      ]
     },
     "execution_count": 15,
     "metadata": {},
     "output_type": "execute_result"
    }
   ],
   "source": [
    "all_data['Ticker'].nunique()"
   ]
  },
  {
   "cell_type": "markdown",
   "metadata": {},
   "source": [
    "##### Interpolar."
   ]
  },
  {
   "cell_type": "code",
   "execution_count": 6,
   "metadata": {},
   "outputs": [],
   "source": [
    "all_data['Open'] = all_data['Open'].interpolate(method='linear')\n",
    "all_data['High'] = all_data['High'].interpolate(method='linear')\n",
    "all_data['Low'] = all_data['Low'].interpolate(method='linear')\n",
    "all_data['Close'] = all_data['Close'].interpolate(method='linear')\n",
    "all_data['Adj Close'] = all_data['Adj Close'].interpolate(method='linear')\n"
   ]
  },
  {
   "cell_type": "markdown",
   "metadata": {},
   "source": [
    "#### Salvando novamente após a interpolação."
   ]
  },
  {
   "cell_type": "code",
   "execution_count": 16,
   "metadata": {},
   "outputs": [],
   "source": [
    "# Salvar em CSV\n",
    "all_data.to_csv('C:/Users/Samsung/Documents/GitHub-Datas/TCC_Machine_Learning/Dados_bolsa_interpolar.csv', index=False)"
   ]
  },
  {
   "cell_type": "code",
   "execution_count": 7,
   "metadata": {},
   "outputs": [],
   "source": [
    "# Salvar em Parquet\n",
    "all_data.to_parquet('C:/Users/Samsung/Documents/GitHub-Datas/TCC_Machine_Learning/Dados_bolsa_interpolar.parquet', index=False)"
   ]
  },
  {
   "cell_type": "code",
   "execution_count": 93,
   "metadata": {},
   "outputs": [],
   "source": [
    "all_data.to_excel(\"C:/Users/Samsung/Documents/GitHub-Datas/TCC_Machine_Learning/Dados_bolsa_interpolar.xlsx\", index=False)"
   ]
  },
  {
   "cell_type": "markdown",
   "metadata": {},
   "source": [
    "##### Carregar"
   ]
  },
  {
   "cell_type": "code",
   "execution_count": 7,
   "metadata": {},
   "outputs": [
    {
     "data": {
      "text/html": [
       "<div>\n",
       "<style scoped>\n",
       "    .dataframe tbody tr th:only-of-type {\n",
       "        vertical-align: middle;\n",
       "    }\n",
       "\n",
       "    .dataframe tbody tr th {\n",
       "        vertical-align: top;\n",
       "    }\n",
       "\n",
       "    .dataframe thead th {\n",
       "        text-align: right;\n",
       "    }\n",
       "</style>\n",
       "<table border=\"1\" class=\"dataframe\">\n",
       "  <thead>\n",
       "    <tr style=\"text-align: right;\">\n",
       "      <th></th>\n",
       "      <th>Date</th>\n",
       "      <th>Open</th>\n",
       "      <th>High</th>\n",
       "      <th>Low</th>\n",
       "      <th>Close</th>\n",
       "      <th>Adj Close</th>\n",
       "      <th>Volume</th>\n",
       "      <th>Ticker</th>\n",
       "    </tr>\n",
       "  </thead>\n",
       "  <tbody>\n",
       "    <tr>\n",
       "      <th>0</th>\n",
       "      <td>2000-01-05</td>\n",
       "      <td>0.520882</td>\n",
       "      <td>0.520882</td>\n",
       "      <td>0.520882</td>\n",
       "      <td>0.520882</td>\n",
       "      <td>0.294043</td>\n",
       "      <td>985</td>\n",
       "      <td>ABEV3.SA</td>\n",
       "    </tr>\n",
       "    <tr>\n",
       "      <th>1</th>\n",
       "      <td>2000-01-06</td>\n",
       "      <td>0.494478</td>\n",
       "      <td>0.494478</td>\n",
       "      <td>0.494478</td>\n",
       "      <td>0.494478</td>\n",
       "      <td>0.279138</td>\n",
       "      <td>227</td>\n",
       "      <td>ABEV3.SA</td>\n",
       "    </tr>\n",
       "    <tr>\n",
       "      <th>2</th>\n",
       "      <td>2000-01-07</td>\n",
       "      <td>0.494478</td>\n",
       "      <td>0.494478</td>\n",
       "      <td>0.494478</td>\n",
       "      <td>0.494478</td>\n",
       "      <td>0.279138</td>\n",
       "      <td>151</td>\n",
       "      <td>ABEV3.SA</td>\n",
       "    </tr>\n",
       "    <tr>\n",
       "      <th>3</th>\n",
       "      <td>2000-01-10</td>\n",
       "      <td>0.494478</td>\n",
       "      <td>0.494478</td>\n",
       "      <td>0.494478</td>\n",
       "      <td>0.494478</td>\n",
       "      <td>0.279138</td>\n",
       "      <td>1516</td>\n",
       "      <td>ABEV3.SA</td>\n",
       "    </tr>\n",
       "    <tr>\n",
       "      <th>4</th>\n",
       "      <td>2000-01-11</td>\n",
       "      <td>0.494478</td>\n",
       "      <td>0.494478</td>\n",
       "      <td>0.494478</td>\n",
       "      <td>0.494478</td>\n",
       "      <td>0.279138</td>\n",
       "      <td>3791</td>\n",
       "      <td>ABEV3.SA</td>\n",
       "    </tr>\n",
       "  </tbody>\n",
       "</table>\n",
       "</div>"
      ],
      "text/plain": [
       "         Date      Open      High       Low     Close  Adj Close  Volume  \\\n",
       "0  2000-01-05  0.520882  0.520882  0.520882  0.520882   0.294043     985   \n",
       "1  2000-01-06  0.494478  0.494478  0.494478  0.494478   0.279138     227   \n",
       "2  2000-01-07  0.494478  0.494478  0.494478  0.494478   0.279138     151   \n",
       "3  2000-01-10  0.494478  0.494478  0.494478  0.494478   0.279138    1516   \n",
       "4  2000-01-11  0.494478  0.494478  0.494478  0.494478   0.279138    3791   \n",
       "\n",
       "     Ticker  \n",
       "0  ABEV3.SA  \n",
       "1  ABEV3.SA  \n",
       "2  ABEV3.SA  \n",
       "3  ABEV3.SA  \n",
       "4  ABEV3.SA  "
      ]
     },
     "execution_count": 7,
     "metadata": {},
     "output_type": "execute_result"
    }
   ],
   "source": [
    "all_data = pd.read_csv('C:/Users/Samsung/Documents/GitHub-Datas/TCC_Machine_Learning/Dados_bolsa_interpolar.csv')\n",
    "all_data.head()\n"
   ]
  },
  {
   "cell_type": "code",
   "execution_count": 9,
   "metadata": {},
   "outputs": [
    {
     "name": "stdout",
     "output_type": "stream",
     "text": [
      "<class 'pandas.core.frame.DataFrame'>\n",
      "Index: 6269 entries, 6267 to 12535\n",
      "Data columns (total 8 columns):\n",
      " #   Column     Non-Null Count  Dtype         \n",
      "---  ------     --------------  -----         \n",
      " 0   Date       6269 non-null   datetime64[ns]\n",
      " 1   Open       6269 non-null   float64       \n",
      " 2   High       6269 non-null   float64       \n",
      " 3   Low        6269 non-null   float64       \n",
      " 4   Close      6269 non-null   float64       \n",
      " 5   Adj Close  6269 non-null   float64       \n",
      " 6   Volume     6269 non-null   int64         \n",
      " 7   Ticker     6269 non-null   object        \n",
      "dtypes: datetime64[ns](1), float64(5), int64(1), object(1)\n",
      "memory usage: 440.8+ KB\n"
     ]
    }
   ],
   "source": [
    "all_data[all_data['Ticker'] == 'SBSP3.SA'].info()"
   ]
  },
  {
   "cell_type": "code",
   "execution_count": 12,
   "metadata": {},
   "outputs": [
    {
     "data": {
      "text/html": [
       "<div>\n",
       "<style scoped>\n",
       "    .dataframe tbody tr th:only-of-type {\n",
       "        vertical-align: middle;\n",
       "    }\n",
       "\n",
       "    .dataframe tbody tr th {\n",
       "        vertical-align: top;\n",
       "    }\n",
       "\n",
       "    .dataframe thead th {\n",
       "        text-align: right;\n",
       "    }\n",
       "</style>\n",
       "<table border=\"1\" class=\"dataframe\">\n",
       "  <thead>\n",
       "    <tr style=\"text-align: right;\">\n",
       "      <th></th>\n",
       "      <th>Ticker</th>\n",
       "      <th>Volume</th>\n",
       "    </tr>\n",
       "  </thead>\n",
       "  <tbody>\n",
       "    <tr>\n",
       "      <th>37</th>\n",
       "      <td>BBDC4.SA</td>\n",
       "      <td>9554568400</td>\n",
       "    </tr>\n",
       "    <tr>\n",
       "      <th>386</th>\n",
       "      <td>PETR4.SA</td>\n",
       "      <td>9231833600</td>\n",
       "    </tr>\n",
       "    <tr>\n",
       "      <th>3</th>\n",
       "      <td>ABEV3.SA</td>\n",
       "      <td>7143969100</td>\n",
       "    </tr>\n",
       "    <tr>\n",
       "      <th>287</th>\n",
       "      <td>ITUB4.SA</td>\n",
       "      <td>5835474400</td>\n",
       "    </tr>\n",
       "    <tr>\n",
       "      <th>508</th>\n",
       "      <td>VALE3.SA</td>\n",
       "      <td>5761464700</td>\n",
       "    </tr>\n",
       "    <tr>\n",
       "      <th>285</th>\n",
       "      <td>ITSA4.SA</td>\n",
       "      <td>5743721660</td>\n",
       "    </tr>\n",
       "    <tr>\n",
       "      <th>336</th>\n",
       "      <td>MGLU3.SA</td>\n",
       "      <td>4903106541</td>\n",
       "    </tr>\n",
       "    <tr>\n",
       "      <th>156</th>\n",
       "      <td>CVCB3.SA</td>\n",
       "      <td>4796487400</td>\n",
       "    </tr>\n",
       "    <tr>\n",
       "      <th>316</th>\n",
       "      <td>LREN3.SA</td>\n",
       "      <td>4612975140</td>\n",
       "    </tr>\n",
       "    <tr>\n",
       "      <th>35</th>\n",
       "      <td>BBAS3.SA</td>\n",
       "      <td>4282662200</td>\n",
       "    </tr>\n",
       "  </tbody>\n",
       "</table>\n",
       "</div>"
      ],
      "text/plain": [
       "       Ticker      Volume\n",
       "37   BBDC4.SA  9554568400\n",
       "386  PETR4.SA  9231833600\n",
       "3    ABEV3.SA  7143969100\n",
       "287  ITUB4.SA  5835474400\n",
       "508  VALE3.SA  5761464700\n",
       "285  ITSA4.SA  5743721660\n",
       "336  MGLU3.SA  4903106541\n",
       "156  CVCB3.SA  4796487400\n",
       "316  LREN3.SA  4612975140\n",
       "35   BBAS3.SA  4282662200"
      ]
     },
     "execution_count": 12,
     "metadata": {},
     "output_type": "execute_result"
    }
   ],
   "source": [
    "all_data['Date'] = pd.to_datetime(all_data['Date'])\n",
    "\n",
    "import datetime as dt\n",
    "\n",
    "one_year_ago = dt.datetime.now() - pd.DateOffset(years=1)\n",
    "\n",
    "# Filtrar os dados apenas para o período do último 1 ano\n",
    "all_data_last_year = all_data[all_data['Date'] >= one_year_ago]\n",
    "\n",
    "# Calcular o volume acumulado por 'Ticker'\n",
    "volume_acumulado = all_data_last_year.groupby('Ticker')['Volume'].sum().reset_index()\n",
    "\n",
    "# Ordenar do maior para o menor volume acumulado\n",
    "volume_acumulado = volume_acumulado.sort_values(by='Volume', ascending=False)\n",
    "\n",
    "volume_acumulado.head(10)"
   ]
  },
  {
   "cell_type": "code",
   "execution_count": 8,
   "metadata": {},
   "outputs": [
    {
     "name": "stdout",
     "output_type": "stream",
     "text": [
      "       Ticker  Volume_Total  Dias_Negociados  Volume_Medio\n",
      "37   BBDC4.SA    9486035800              250  3.794414e+07\n",
      "386  PETR4.SA    9187359300              250  3.674944e+07\n",
      "3    ABEV3.SA    7119606000              250  2.847842e+07\n",
      "287  ITUB4.SA    5807652700              250  2.323061e+07\n",
      "508  VALE3.SA    5745131300              250  2.298053e+07\n",
      "285  ITSA4.SA    5715793865              250  2.286318e+07\n",
      "336  MGLU3.SA    4889812989              250  1.955925e+07\n",
      "156  CVCB3.SA    4786378500              250  1.914551e+07\n",
      "316  LREN3.SA    4601315030              250  1.840526e+07\n",
      "35   BBAS3.SA    4267144000              250  1.706858e+07\n"
     ]
    }
   ],
   "source": [
    "import pandas as pd\n",
    "import datetime as dt\n",
    "\n",
    "# Garantir que a coluna 'Date' está no formato datetime\n",
    "all_data['Date'] = pd.to_datetime(all_data['Date'])\n",
    "\n",
    "# Definir a data de 1 ano atrás em relação a hoje\n",
    "one_year_ago = dt.datetime.now() - pd.DateOffset(years=1)\n",
    "\n",
    "# Filtrar os dados apenas para o período do último 1 ano\n",
    "all_data_last_year = all_data[all_data['Date'] >= one_year_ago]\n",
    "\n",
    "# Calcular o número de dias negociados por Ticker no período de 1 ano\n",
    "dias_negociados = all_data_last_year.groupby('Ticker')['Date'].nunique().reset_index()\n",
    "dias_negociados.rename(columns={'Date': 'Dias_Negociados'}, inplace=True)\n",
    "\n",
    "# Calcular o volume total negociado por Ticker\n",
    "volume_total = all_data_last_year.groupby('Ticker')['Volume'].sum().reset_index()\n",
    "volume_total.rename(columns={'Volume': 'Volume_Total'}, inplace=True)\n",
    "\n",
    "# Combinar os dois DataFrames\n",
    "volume_data = pd.merge(volume_total, dias_negociados, on='Ticker')\n",
    "\n",
    "# Calcular o volume médio diário por Ticker\n",
    "volume_data['Volume_Medio'] = volume_data['Volume_Total'] / volume_data['Dias_Negociados']\n",
    "\n",
    "# Ordenar do maior para o menor volume médio\n",
    "volume_data = volume_data.sort_values(by='Volume_Medio', ascending=False)\n",
    "\n",
    "# Exibir as 10 ações mais líquidas\n",
    "top_10_liquidez = volume_data.head(10)\n",
    "print(top_10_liquidez)\n"
   ]
  },
  {
   "cell_type": "code",
   "execution_count": null,
   "metadata": {},
   "outputs": [],
   "source": []
  }
 ],
 "metadata": {
  "kernelspec": {
   "display_name": "base",
   "language": "python",
   "name": "python3"
  },
  "language_info": {
   "codemirror_mode": {
    "name": "ipython",
    "version": 3
   },
   "file_extension": ".py",
   "mimetype": "text/x-python",
   "name": "python",
   "nbconvert_exporter": "python",
   "pygments_lexer": "ipython3",
   "version": "3.8.16"
  }
 },
 "nbformat": 4,
 "nbformat_minor": 2
}
